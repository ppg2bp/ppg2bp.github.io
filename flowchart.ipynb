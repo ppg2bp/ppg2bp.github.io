{
 "cells": [
  {
   "cell_type": "code",
   "execution_count": 1,
   "id": "e3f7bf06-1dd0-4f61-9055-cdc5a0b19102",
   "metadata": {},
   "outputs": [],
   "source": [
    "import pandas as pd\n",
    "import numpy as np"
   ]
  },
  {
   "cell_type": "code",
   "execution_count": 2,
   "id": "1ad7b727-e82e-47d0-8078-4c0cdf47fc00",
   "metadata": {},
   "outputs": [],
   "source": [
    "data = pd.read_excel('metadata.xlsx', sheet_name='WearableBP Paper Metadata')"
   ]
  },
  {
   "cell_type": "code",
   "execution_count": 8,
   "id": "d13dd0f2-b65e-4c57-b5a2-6b4af91a107f",
   "metadata": {},
   "outputs": [
    {
     "data": {
      "text/plain": [
       "2180"
      ]
     },
     "execution_count": 8,
     "metadata": {},
     "output_type": "execute_result"
    }
   ],
   "source": [
    "len(data['Title'].unique())"
   ]
  },
  {
   "cell_type": "code",
   "execution_count": 6,
   "id": "0ff6f04a-48f4-4f59-b59a-a91ade45a762",
   "metadata": {},
   "outputs": [
    {
     "data": {
      "text/plain": [
       "irrelevant                                    1090\n",
       "record level split without personalization     322\n",
       "duplicate                                      192\n",
       "no reported MAE/ME                             143\n",
       "review                                         100\n",
       "did not report both SBP and DBP results         39\n",
       "arm cuff                                        38\n",
       "inaccessible                                    23\n",
       "cannot determine calibration technique          20\n",
       "not in english                                  17\n",
       "oscillometry                                    15\n",
       "not wearable                                    14\n",
       "no experiment on humans                         13\n",
       "number of test subjects not greater than 1       9\n",
       "dynamical model                                  7\n",
       "demonstration                                    2\n",
       "dynamic model                                    2\n",
       "meta-study                                       1\n",
       "commentary                                       1\n",
       "Name: Exclude Reason, dtype: int64"
      ]
     },
     "execution_count": 6,
     "metadata": {},
     "output_type": "execute_result"
    }
   ],
   "source": [
    "edata = data[data['Include'] == 0]\n",
    "edata['Exclude Reason'].apply(lambda x: x.split(';')[0]).value_counts()"
   ]
  },
  {
   "cell_type": "code",
   "execution_count": 18,
   "id": "21fad9bb-6fe8-4fe4-ae17-589b4cbad512",
   "metadata": {},
   "outputs": [
    {
     "data": {
      "text/plain": [
       "239"
      ]
     },
     "execution_count": 18,
     "metadata": {},
     "output_type": "execute_result"
    }
   ],
   "source": [
    "len(data[data['Include'] == 1])"
   ]
  },
  {
   "cell_type": "code",
   "execution_count": 36,
   "id": "1d5f18ae-7b5d-4d4d-8b4c-37e8ce7ecf62",
   "metadata": {},
   "outputs": [
    {
     "data": {
      "text/plain": [
       "10"
      ]
     },
     "execution_count": 36,
     "metadata": {},
     "output_type": "execute_result"
    }
   ],
   "source": [
    "len(data[(data['Include'] == 1) & (data['Calibration Technique'].str.contains('personalization')) & (data['BP Distribution Type'] == 'ME')])"
   ]
  },
  {
   "cell_type": "code",
   "execution_count": 37,
   "id": "d7f5637e-46c3-4176-a04b-f6bed0f18cd3",
   "metadata": {},
   "outputs": [
    {
     "data": {
      "text/plain": [
       "92"
      ]
     },
     "execution_count": 37,
     "metadata": {},
     "output_type": "execute_result"
    }
   ],
   "source": [
    "len(cdata)"
   ]
  },
  {
   "cell_type": "code",
   "execution_count": null,
   "id": "8a0ea091-7393-4edd-a605-98c5237423e4",
   "metadata": {},
   "outputs": [],
   "source": []
  }
 ],
 "metadata": {
  "kernelspec": {
   "display_name": "Python 3 (ipykernel)",
   "language": "python",
   "name": "python3"
  },
  "language_info": {
   "codemirror_mode": {
    "name": "ipython",
    "version": 3
   },
   "file_extension": ".py",
   "mimetype": "text/x-python",
   "name": "python",
   "nbconvert_exporter": "python",
   "pygments_lexer": "ipython3",
   "version": "3.10.6"
  }
 },
 "nbformat": 4,
 "nbformat_minor": 5
}
