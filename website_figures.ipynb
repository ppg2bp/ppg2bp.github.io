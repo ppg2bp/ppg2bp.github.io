{
 "cells": [
  {
   "cell_type": "code",
   "execution_count": 1,
   "id": "f084d840-fab3-4f8f-9f45-b5acb8d0d274",
   "metadata": {},
   "outputs": [],
   "source": [
    "import numpy as np\n",
    "import pandas as pd\n",
    "import matplotlib.pyplot as plt\n",
    "from math import pi\n",
    "from statsmodels.stats.power import TTestIndPower\n",
    "from scipy import stats\n",
    "\n",
    "from bokeh.plotting import figure, show, curdoc\n",
    "from bokeh.io import output_file, export_png, export_svgs\n",
    "from bokeh.layouts import row, column, gridplot\n",
    "from bokeh.models import ColumnDataSource, Legend, BoxAnnotation, HoverTool, Plot, FactorRange, TapTool, OpenURL, Range1d, LegendItem\n",
    "from bokeh.models.widgets import Tabs, Panel\n",
    "\n",
    "import statsmodels.api as sm"
   ]
  },
  {
   "cell_type": "code",
   "execution_count": 2,
   "id": "d00768de",
   "metadata": {},
   "outputs": [
    {
     "data": {
      "text/plain": [
       "82.48264296892928"
      ]
     },
     "execution_count": 2,
     "metadata": {},
     "output_type": "execute_result"
    }
   ],
   "source": [
    "2*((stats.norm.isf(1-0.05/2) + stats.norm.isf(1-0.02))/(5/8))**2"
   ]
  },
  {
   "cell_type": "code",
   "execution_count": 3,
   "id": "cee4d5d8",
   "metadata": {},
   "outputs": [
    {
     "data": {
      "text/plain": [
       "0.9827653081016123"
      ]
     },
     "execution_count": 3,
     "metadata": {},
     "output_type": "execute_result"
    }
   ],
   "source": [
    "1-stats.norm.sf(np.sqrt(85/2)*(5/8)-stats.norm.ppf(1-0.05/2))"
   ]
  },
  {
   "cell_type": "code",
   "execution_count": 4,
   "id": "133898fb",
   "metadata": {},
   "outputs": [
    {
     "data": {
      "text/plain": [
       "83.45627767136234"
      ]
     },
     "execution_count": 4,
     "metadata": {},
     "output_type": "execute_result"
    }
   ],
   "source": [
    "TTestIndPower().solve_power(5/8, ratio=1, alpha=0.05, nobs1=None, power=0.98, alternative='two-sided')"
   ]
  },
  {
   "cell_type": "code",
   "execution_count": 5,
   "id": "79ff9ff8-5b3c-4ee5-8f77-d289125f62d8",
   "metadata": {
    "tags": []
   },
   "outputs": [
    {
     "name": "stdout",
     "output_type": "stream",
     "text": [
      "--2023-07-12 18:12:49--  https://docs.google.com/spreadsheets/d/1O8YItuJ4CtaFFEXbjBcxvhUoM7v9AX1uFDRMhh7iQZM/export?format=xlsx\n",
      "Resolving docs.google.com (docs.google.com)... 142.250.115.139, 142.250.115.102, 142.250.115.100, ...\n",
      "Connecting to docs.google.com (docs.google.com)|142.250.115.139|:443... connected.\n",
      "HTTP request sent, awaiting response... 307 Temporary Redirect\n",
      "Location: https://doc-14-5g-sheets.googleusercontent.com/export/61n3kh26mivuiertrk0p4veisk/r3hv4o0mr4q6b2in438ls4o0sk/1689203570000/102025844088317935117/*/1O8YItuJ4CtaFFEXbjBcxvhUoM7v9AX1uFDRMhh7iQZM?format=xlsx [following]\n",
      "Warning: wildcards not supported in HTTP.\n",
      "--2023-07-12 18:12:50--  https://doc-14-5g-sheets.googleusercontent.com/export/61n3kh26mivuiertrk0p4veisk/r3hv4o0mr4q6b2in438ls4o0sk/1689203570000/102025844088317935117/*/1O8YItuJ4CtaFFEXbjBcxvhUoM7v9AX1uFDRMhh7iQZM?format=xlsx\n",
      "Resolving doc-14-5g-sheets.googleusercontent.com (doc-14-5g-sheets.googleusercontent.com)... 142.250.138.132\n",
      "Connecting to doc-14-5g-sheets.googleusercontent.com (doc-14-5g-sheets.googleusercontent.com)|142.250.138.132|:443... connected.\n",
      "HTTP request sent, awaiting response... 200 OK\n",
      "Length: unspecified [application/vnd.openxmlformats-officedocument.spreadsheetml.sheet]\n",
      "Saving to: ‘../metadata.xlsx’\n",
      "\n",
      "../metadata.xlsx        [ <=>                ]   1.20M  --.-KB/s    in 0.09s   \n",
      "\n",
      "2023-07-12 18:12:51 (13.5 MB/s) - ‘../metadata.xlsx’ saved [1256214]\n",
      "\n"
     ]
    }
   ],
   "source": [
    "!wget \"https://docs.google.com/spreadsheets/d/1O8YItuJ4CtaFFEXbjBcxvhUoM7v9AX1uFDRMhh7iQZM/export?format=xlsx\" -O \"../metadata.xlsx\""
   ]
  },
  {
   "cell_type": "code",
   "execution_count": 6,
   "id": "1bb171cb-fa09-434d-90c2-ff2cc57d489a",
   "metadata": {},
   "outputs": [],
   "source": [
    "data = pd.read_excel('../metadata.xlsx', sheet_name='WearableBP Paper Metadata')"
   ]
  },
  {
   "cell_type": "markdown",
   "id": "2b492706-ac71-48ee-8703-8dff6f1aa116",
   "metadata": {
    "tags": []
   },
   "source": [
    "# Housekeeping"
   ]
  },
  {
   "cell_type": "code",
   "execution_count": 7,
   "id": "3a68f054-dafd-42af-87bc-dd13ceef12c3",
   "metadata": {
    "tags": []
   },
   "outputs": [
    {
     "name": "stderr",
     "output_type": "stream",
     "text": [
      "[nltk_data] Downloading package stopwords to /Users/matt/nltk_data...\n",
      "[nltk_data]   Package stopwords is already up-to-date!\n"
     ]
    }
   ],
   "source": [
    "import nltk\n",
    "from rake_nltk import Rake\n",
    "nltk.download('stopwords')\n",
    "\n",
    "def find_keywords(x, include_columns):\n",
    "    s = ''\n",
    "    for col in include_columns:\n",
    "        if x[col] != x[col]:\n",
    "            pass\n",
    "        else:\n",
    "            s += ' ' + str(x[col])\n",
    "            \n",
    "    rake_nltk_var = Rake()\n",
    "    rake_nltk_var.extract_keywords_from_text(s)\n",
    "    keywords = rake_nltk_var.get_ranked_phrases()\n",
    "    return ' '.join(keywords)\n",
    "\n",
    "include_columns = ['Authors', 'Title', 'Source', 'Exclude Reason', 'Key Devices and Measurements', 'Calibration Technique', 'Algorithm', 'Dataset', 'Training Subject Characteristics', 'Testing Subject Characteristics', 'Study Characteristics','Evaluation Metric', 'Notes', 'Abstract']\n",
    "data['Keywords'] = data.apply(find_keywords, axis=1, args=(include_columns, ))"
   ]
  },
  {
   "cell_type": "code",
   "execution_count": 8,
   "id": "06991275-0c79-4ff3-b94a-88a6eb59742d",
   "metadata": {},
   "outputs": [
    {
     "data": {
      "text/plain": [
       "330"
      ]
     },
     "execution_count": 8,
     "metadata": {},
     "output_type": "execute_result"
    }
   ],
   "source": [
    "a = data.copy().dropna(subset='Exclude Reason')\n",
    "len(a[a['Exclude Reason'].str.contains('record split without personalization')])"
   ]
  },
  {
   "cell_type": "code",
   "execution_count": 9,
   "id": "8ec84faa-ea83-4e03-9261-f09b5729201e",
   "metadata": {
    "tags": []
   },
   "outputs": [],
   "source": [
    "def compress_authors(x):\n",
    "    a = x.split(',')[0].split(' ')\n",
    "    if len(a) == 1:\n",
    "        return a[0]\n",
    "    elif len(a) == 2:\n",
    "        return a[1]\n",
    "    elif len(a) == 3:\n",
    "        return a[2]\n",
    "    else:\n",
    "        return a[-1]\n",
    "\n",
    "df = data.copy()\n",
    "df = df[(df['Include'] == 1) & (df['BP Distribution Type'] == 'ME') & ((df['Evaluation Metric'] == 'MAE') | (df['Evaluation Metric'] == 'ME'))]\n",
    "\n",
    "df['Sensor Data'] = df['Key Devices and Measurements'].str.split(';', expand=True)[0]\n",
    "df['Calibration Technique'] = df['Calibration Technique'].str.split(';', expand=True)[0]\n",
    "df['Algorithm'] = df['Algorithm'].str.split(';', expand=True)[0]\n",
    "df['Dataset'] = df['Dataset'].str.split(';', expand=True)[0]\n",
    "df['Testing Subject Characteristics'] = df['Testing Subject Characteristics'].str.split(';', expand=True)[0]\n",
    "df['Study Characteristics'] = df['Study Characteristics'].str.split(';', expand=True)[0]\n",
    "df['Algorithm'] = df['Algorithm'].str.split(';', expand=True)[0]\n",
    "df['SBP Distribution Raw'] = df['BP Distribution'].str.split(';', expand=True)[0]\n",
    "df['SBP Distribution STD'] = df['SBP Distribution Raw'].str.split('±', expand=True)[1].astype(float)\n",
    "df['DBP Distribution Raw'] = df['BP Distribution'].str.split(';', expand=True)[1]\n",
    "df['DBP Distribution STD'] = df['DBP Distribution Raw'].str.split('±', expand=True)[1].astype(float)\n",
    "df['SBP Reported Error Raw'] = df['Reported Result'].str.split(';', expand=True)[0]\n",
    "df['DBP Reported Error Raw'] = df['Reported Result'].str.split(';', expand=True)[1]"
   ]
  },
  {
   "cell_type": "code",
   "execution_count": 10,
   "id": "f140d87e-37aa-400e-b2c8-5094a346f2bf",
   "metadata": {
    "tags": []
   },
   "outputs": [
    {
     "name": "stderr",
     "output_type": "stream",
     "text": [
      "/var/folders/4k/jr4_f2px17b2sdv74jmvp4x80000gn/T/ipykernel_55722/4128608041.py:2: SettingWithCopyWarning: \n",
      "A value is trying to be set on a copy of a slice from a DataFrame.\n",
      "Try using .loc[row_indexer,col_indexer] = value instead\n",
      "\n",
      "See the caveats in the documentation: https://pandas.pydata.org/pandas-docs/stable/user_guide/indexing.html#returning-a-view-versus-a-copy\n",
      "  df_mae['SBP Error STD'] = df_mae['SBP Reported Error Raw'].astype(float)*np.sqrt(pi/2)\n",
      "/var/folders/4k/jr4_f2px17b2sdv74jmvp4x80000gn/T/ipykernel_55722/4128608041.py:3: SettingWithCopyWarning: \n",
      "A value is trying to be set on a copy of a slice from a DataFrame.\n",
      "Try using .loc[row_indexer,col_indexer] = value instead\n",
      "\n",
      "See the caveats in the documentation: https://pandas.pydata.org/pandas-docs/stable/user_guide/indexing.html#returning-a-view-versus-a-copy\n",
      "  df_mae['DBP Error STD'] = df_mae['DBP Reported Error Raw'].astype(float)*np.sqrt(pi/2)\n",
      "/var/folders/4k/jr4_f2px17b2sdv74jmvp4x80000gn/T/ipykernel_55722/4128608041.py:5: SettingWithCopyWarning: \n",
      "A value is trying to be set on a copy of a slice from a DataFrame.\n",
      "Try using .loc[row_indexer,col_indexer] = value instead\n",
      "\n",
      "See the caveats in the documentation: https://pandas.pydata.org/pandas-docs/stable/user_guide/indexing.html#returning-a-view-versus-a-copy\n",
      "  df_me['SBP Error STD'] = df_me['SBP Reported Error Raw'].str.split('±', expand=True)[1].astype(float)\n",
      "/var/folders/4k/jr4_f2px17b2sdv74jmvp4x80000gn/T/ipykernel_55722/4128608041.py:6: SettingWithCopyWarning: \n",
      "A value is trying to be set on a copy of a slice from a DataFrame.\n",
      "Try using .loc[row_indexer,col_indexer] = value instead\n",
      "\n",
      "See the caveats in the documentation: https://pandas.pydata.org/pandas-docs/stable/user_guide/indexing.html#returning-a-view-versus-a-copy\n",
      "  df_me['DBP Error STD'] = df_me['DBP Reported Error Raw'].str.split('±', expand=True)[1].astype(float)\n"
     ]
    }
   ],
   "source": [
    "df_mae = df[df['Evaluation Metric'] == 'MAE']\n",
    "df_mae['SBP Error STD'] = df_mae['SBP Reported Error Raw'].astype(float)*np.sqrt(pi/2)\n",
    "df_mae['DBP Error STD'] = df_mae['DBP Reported Error Raw'].astype(float)*np.sqrt(pi/2)\n",
    "df_me = df[df['Evaluation Metric'] == 'ME']\n",
    "df_me['SBP Error STD'] = df_me['SBP Reported Error Raw'].str.split('±', expand=True)[1].astype(float)\n",
    "df_me['DBP Error STD'] = df_me['DBP Reported Error Raw'].str.split('±', expand=True)[1].astype(float)\n",
    "df_concat = pd.concat([df_me, df_mae], axis=0)\n",
    "df_concat['SBP ED'] = df_concat['SBP Distribution STD']/df_concat['SBP Error STD']\n",
    "df_concat['DBP ED'] = df_concat['DBP Distribution STD']/df_concat['DBP Error STD']\n",
    "\n",
    "df_concat['SBP ED 95CI UB'] = df_concat.apply(lambda x: np.sqrt(stats.f.isf(0.05/2, x['Number of Test Subjects']-1, x['Number of Test Subjects']-1))*x['SBP ED'], axis=1)\n",
    "df_concat['SBP ED 95CI LB'] = df_concat.apply(lambda x: np.sqrt(stats.f.isf(1-0.05/2, x['Number of Test Subjects']-1, x['Number of Test Subjects']-1))*x['SBP ED'], axis=1)\n",
    "df_concat['SBP ED MOE'] = (df_concat['SBP ED 95CI UB'] - df_concat['SBP ED 95CI LB'])/2\n",
    "df_concat['DBP ED 95CI UB'] = df_concat.apply(lambda x: np.sqrt(stats.f.isf(0.05/2, x['Number of Test Subjects']-1, x['Number of Test Subjects']-1))*x['DBP ED'], axis=1)\n",
    "df_concat['DBP ED 95CI LB'] = df_concat.apply(lambda x: np.sqrt(stats.f.isf(1-0.05/2, x['Number of Test Subjects']-1, x['Number of Test Subjects']-1))*x['DBP ED'], axis=1)\n",
    "df_concat['DBP ED MOE'] = (df_concat['DBP ED 95CI UB'] - df_concat['DBP ED 95CI LB'])/2\n",
    "\n",
    "df_concat['Authors'] = df_concat['Authors'].apply(compress_authors) + ' et al.'\n",
    "compute_power = lambda x: TTestIndPower().solve_power(5/8, ratio=1, alpha=0.05, nobs1=x, power=None, alternative='two-sided')\n",
    "df_concat['Power'] = df_concat['Number of Test Subjects'].apply(compute_power)\n",
    "# 2*((stats.norm.isf(1-0.05/2) + stats.norm.isf(1-0.02))/(5/8))**2\n",
    "# 1-stats.norm.sf(np.sqrt(85/2)*(5/8)-stats.norm.ppf(1-0.05/2))"
   ]
  },
  {
   "cell_type": "code",
   "execution_count": 11,
   "id": "6c396d0c-ad58-4b1f-a38a-a3fd71d041c1",
   "metadata": {},
   "outputs": [
    {
     "data": {
      "text/plain": [
       "11"
      ]
     },
     "execution_count": 11,
     "metadata": {},
     "output_type": "execute_result"
    }
   ],
   "source": [
    "len(df_concat[df_concat['Calibration Technique'] == 'personalization'])"
   ]
  },
  {
   "cell_type": "markdown",
   "id": "b708b99a-ba69-49be-8719-e67f468e0bd7",
   "metadata": {
    "tags": []
   },
   "source": [
    "# Create Subject Split and Personalization Tables"
   ]
  },
  {
   "cell_type": "code",
   "execution_count": 12,
   "id": "cdd82658-c5e9-4cf6-8ab3-96c5a68e5b49",
   "metadata": {},
   "outputs": [],
   "source": [
    "save_cols = ['Title', 'ArticleURL', 'Authors', 'Year', 'Calibration Technique', 'Sensor Data', 'Algorithm', 'Dataset', 'Number of Test Subjects', 'Testing Subject Characteristics', 'Study Characteristics', 'SBP Distribution STD', 'DBP Distribution STD', 'Reported Result', 'SBP ED', 'DBP ED', 'SBP ED MOE', 'DBP ED MOE', 'Power', 'Original Model Implementation Availability', 'Original Model Implementation Link', 'Exact Dataset/Pre-processing Code Availability', 'Exact Dataset/Pre-processing Code Link']\n",
    "\n",
    "def make_clickable(name, url):\n",
    "    return '<a href=\"' + url + '\">' + name + '</a>'\n",
    "\n",
    "save_table = df_concat.copy()[save_cols]\n",
    "save_table['Title'] = make_clickable(save_table['Title'] + ' (' + save_table['Authors'] + ', '+ save_table['Year'].astype(int).astype(str) + ')', save_table['ArticleURL'])\n",
    "save_table.drop(['Year'], axis=1, inplace=True)\n",
    "save_table.drop(['Authors'], axis=1, inplace=True)\n",
    "save_table.drop(['ArticleURL'], axis=1, inplace=True)\n",
    "\n",
    "save_table['Original Model Implementation Availability'] = make_clickable(save_table['Original Model Implementation Availability'], save_table['Original Model Implementation Link'])\n",
    "save_table['Exact Dataset/Pre-processing Code Availability'] = make_clickable(save_table['Exact Dataset/Pre-processing Code Availability'], save_table['Exact Dataset/Pre-processing Code Link'])\n",
    "save_table.drop(['Original Model Implementation Link', 'Exact Dataset/Pre-processing Code Link'], axis=1, inplace=True)\n",
    "\n",
    "sls_save_table = save_table[save_table['Calibration Technique'] == 'subject split']\n",
    "per_save_table = save_table[save_table['Calibration Technique'] == 'personalization']\n",
    "\n",
    "save_table.to_html('./_includes/include_table.html', index=False, render_links=True, table_id='itable', escape=False)\n",
    "sls_save_table.to_html('./_includes/include_sls_table.html', index=False, render_links=True, table_id='islstable', escape=False)\n",
    "per_save_table.to_html('./_includes/include_per_table.html', index=False, render_links=True, table_id='ipertable', escape=False)"
   ]
  },
  {
   "cell_type": "code",
   "execution_count": 13,
   "id": "015a2f0d-520d-433c-9ebd-3d49f0c5b1a5",
   "metadata": {},
   "outputs": [
    {
     "data": {
      "text/plain": [
       "(Ttest_indResult(statistic=0.1898815618580575, pvalue=0.8520061810969135),\n",
       " Ttest_indResult(statistic=-5.147289314791974, pvalue=4.3122285872659485e-06),\n",
       " Ttest_indResult(statistic=-4.0993609652351495, pvalue=0.0001740781381879387),\n",
       " (Ttest_indResult(statistic=-2.5995108921064296, pvalue=0.022208263516253875),),\n",
       " Ttest_indResult(statistic=-2.9729718500633995, pvalue=0.01024014473722676),\n",
       " Ttest_indResult(statistic=-1.9113542028317358, pvalue=0.06054862382437286))"
      ]
     },
     "execution_count": 13,
     "metadata": {},
     "output_type": "execute_result"
    }
   ],
   "source": [
    "p_power = stats.ttest_ind(save_table[save_table['Calibration Technique'] == 'personalization'].Power.values, save_table[save_table['Calibration Technique'] == 'subject split'].Power.values, equal_var=False)\n",
    "\n",
    "p_sbp_ed = stats.ttest_ind(save_table[save_table['Calibration Technique'] == 'personalization']['SBP ED'].values, save_table[save_table['Calibration Technique'] == 'subject split']['SBP ED'].values, equal_var=False, nan_policy='omit')\n",
    "p_dbp_ed = stats.ttest_ind(save_table[save_table['Calibration Technique'] == 'personalization']['DBP ED'].values, save_table[save_table['Calibration Technique'] == 'subject split']['DBP ED'].values, equal_var=False, nan_policy='omit')\n",
    "\n",
    "p_sbp_dist = stats.ttest_ind(save_table[save_table['Calibration Technique'] == 'personalization']['SBP Distribution STD'].values, save_table[save_table['Calibration Technique'] == 'subject split']['SBP Distribution STD'].values, equal_var=False, nan_policy='omit'), \n",
    "p_dbp_dist = stats.ttest_ind(save_table[save_table['Calibration Technique'] == 'personalization']['DBP Distribution STD'].values, save_table[save_table['Calibration Technique'] == 'subject split']['DBP Distribution STD'].values, equal_var=False, nan_policy='omit')\n",
    "\n",
    "p_num_testing = stats.ttest_ind(save_table[save_table['Calibration Technique'] == 'personalization']['Number of Test Subjects'].values.astype(float), save_table[save_table['Calibration Technique'] == 'subject split']['Number of Test Subjects'].values.astype(float), equal_var=False, nan_policy='omit')\n",
    "\n",
    "p_power, p_sbp_ed, p_dbp_ed, p_sbp_dist, p_dbp_dist, p_num_testing"
   ]
  },
  {
   "cell_type": "markdown",
   "id": "05ea2b16-5d1e-4e6c-bfc4-6bc5cd9d1cdf",
   "metadata": {
    "tags": []
   },
   "source": [
    "# Create Interactive Metadata Statistics Figure"
   ]
  },
  {
   "cell_type": "code",
   "execution_count": 14,
   "id": "9b369f1a-60e4-474b-aef3-29ddbb818735",
   "metadata": {},
   "outputs": [],
   "source": [
    "cat_columns = ['Sensor Data', 'Algorithm', 'Dataset', 'Testing Subject Characteristics', 'Study Characteristics']\n",
    "cont_columns = ['Number of Test Subjects', 'SBP Distribution STD', 'DBP Distribution STD', 'SBP ED', 'DBP ED', 'Power']\n",
    "\n",
    "tooltips = [(\"% of subject split\", \"@{subject split pct}\"), \n",
    "            (\"% of personalization\", \"@{personalization pct}\")]\n",
    "\n",
    "ps = []\n",
    "for c in cat_columns:\n",
    "    d = pd.DataFrame(save_table[[c, 'Calibration Technique']].value_counts()).reset_index().rename({0: 'Count'}, axis=1).pivot(index=c, columns='Calibration Technique', values='Count').reset_index().fillna(0)\n",
    "    d['subject split pct'] = d['subject split']/d['subject split'].sum()*100\n",
    "    d['personalization pct'] = d['personalization']/d['personalization'].sum()*100\n",
    "    d['total'] = d['subject split']+d['personalization']\n",
    "    d = d.sort_values(by='total')\n",
    "    source = ColumnDataSource(d)\n",
    "    p = Plot(title=None, width=800, height=600, toolbar_location=None)\n",
    "    p = figure(y_range=FactorRange(factors=d[c].unique()), plot_width=1000, plot_height=400, title='',\n",
    "                toolbar_location=None, tooltips=tooltips, tools = [])\n",
    "    p.hbar_stack(['subject split', 'personalization'], y=c, source=source, fill_color=['#beaed4', '#fdc086'])\n",
    "    p.x_range = Range1d(0, (d['subject split']+d['personalization']).max())\n",
    "    p.yaxis.axis_label = c\n",
    "    p.xaxis.axis_label = 'Number of Studies'\n",
    "    ps.append(p)\n",
    "    output_file('./_includes/' + c.replace(' ', '_') + '_stats.html')\n",
    "    show(p)\n",
    "\n",
    "for c in cont_columns:\n",
    "    d = save_table[[c, 'Calibration Technique']]\n",
    "    d1 = d[d['Calibration Technique'] == 'subject split'].dropna()\n",
    "    d2 = d[d['Calibration Technique'] == 'personalization'].dropna()\n",
    "    p1 = figure(title='Subject Split', width=500, height=400, min_border=0, tools='', background_fill_color=\"#fafafa\", toolbar_location=None)\n",
    "    p2 = figure(title='Personalization', width=500, height=400, min_border=0, tools=[], background_fill_color=\"#fafafa\", toolbar_location=None)\n",
    "    hist1, edge1 = np.histogram(d1[c], bins=10)\n",
    "    hist2, edge2 = np.histogram(d2[c], bins=10)\n",
    "    p1.quad(top=hist1, bottom=0, fill_color='#beaed4', line_color=\"white\", left=edge1[:-1], right=edge1[1:])\n",
    "    p2.quad(top=hist2, bottom=0, fill_color='#fdc086', line_color=\"white\", left=edge2[:-1], right=edge2[1:])\n",
    "    \n",
    "    p1.y_range = Range1d(0, hist1.max())\n",
    "    if 'STD' in c:\n",
    "        p1.xaxis.axis_label = c + ' (mmHg)'\n",
    "        p2.xaxis.axis_label = c + ' (mmHg)'\n",
    "    else:\n",
    "        p1.xaxis.axis_label = c\n",
    "        p2.xaxis.axis_label = c\n",
    "    p1.yaxis.axis_label = 'Number of Studies'\n",
    "    p2.y_range = Range1d(0, hist2.max())\n",
    "    p2.yaxis.axis_label = 'Number of Studies'\n",
    "    p = row(p1, p2)\n",
    "    ps.append(p)\n",
    "    output_file('./_includes/' + c.replace(' ', '_') + '_stats.html')\n",
    "    show(p)\n",
    "    \n",
    "\n",
    "# tabs = []\n",
    "# for i in range(len(cat_columns)):\n",
    "#     tabs.append(Panel(child=ps[i], title=cat_columns[i]))\n",
    "# for i in range(len(cont_columns)):\n",
    "#     tabs.append(Panel(child=ps[len(cat_columns)+i], title=cont_columns[i]))\n",
    "# figure_tabs = Tabs(tabs=tabs)\n",
    "# output_file('./_includes/metadata_stats.html')\n",
    "# show(figure_tabs)"
   ]
  },
  {
   "cell_type": "markdown",
   "id": "9bb861d4-3762-4b45-a3eb-926b7d8b3ed1",
   "metadata": {
    "tags": []
   },
   "source": [
    "# Create Metadata Statistics for Paper Figure"
   ]
  },
  {
   "cell_type": "code",
   "execution_count": 15,
   "id": "14b385e0-396d-4f9d-a2bd-76e40047080b",
   "metadata": {},
   "outputs": [],
   "source": [
    "cat_columns = ['Sensor Data', 'Algorithm', 'Dataset', 'Study Characteristics']\n",
    "fig_sizes = {'Sensor Data':(1000, 800), \n",
    "             'Algorithm':(1000, 360), \n",
    "             'Dataset': (1000, 800), \n",
    "             'Study Characteristics': (1000, 360)}\n",
    "\n",
    "tooltips = [(\"% of subject split\", \"@{subject split pct}\"), \n",
    "            (\"% of personalization\", \"@{personalization pct}\")]\n",
    "\n",
    "font_size = '30px'\n",
    "ps = []\n",
    "for c in cat_columns:\n",
    "    d = pd.DataFrame(save_table[[c, 'Calibration Technique']].value_counts()).reset_index().rename({0: 'Count'}, axis=1).pivot(index=c, columns='Calibration Technique', values='Count').reset_index().fillna(0)\n",
    "    d['subject split pct'] = d['subject split']/d['subject split'].sum()*100\n",
    "    d['personalization pct'] = d['personalization']/d['personalization'].sum()*100\n",
    "    d['total'] = d['subject split']+d['personalization']\n",
    "    d = d.sort_values(by='total')\n",
    "    if 'Study' in c:\n",
    "        d[c] = d[c].str.split(' ', expand=True)[0]\n",
    "    source = ColumnDataSource(d)\n",
    "    p = Plot(title=None, width=fig_sizes[c][0], height=fig_sizes[c][1], toolbar_location=None)\n",
    "    p = figure(y_range=FactorRange(factors=d[c].unique()), plot_width=fig_sizes[c][0], plot_height=fig_sizes[c][1], title='',\n",
    "                toolbar_location=None, tooltips=tooltips, tools = [])\n",
    "    p.hbar_stack(['subject split', 'personalization'], y=c, source=source, fill_color=['#beaed4', '#fdc086'], legend_label = ['subject split', 'personalization'])\n",
    "    p.x_range = Range1d(0, (d['subject split']+d['personalization']).max())\n",
    "    p.xaxis.axis_label = 'Number of Studies'\n",
    "    p.yaxis.axis_label = c\n",
    "    p.yaxis.axis_label_text_font_size = font_size\n",
    "    p.xaxis.axis_label_text_font_size = font_size\n",
    "    p.yaxis.major_label_text_font_size = font_size\n",
    "    p.xaxis.major_label_text_font_size = font_size\n",
    "    p.title.text_font_size = font_size\n",
    "    if 'Dataset' in c:\n",
    "        p.add_layout(p.legend[0], 'above')\n",
    "        p.legend.location = (-150,25)\n",
    "        p.legend.label_text_font_size = font_size\n",
    "    else:\n",
    "        p.legend.visible = False\n",
    "    ps.append(p)\n",
    "    \n",
    "for c in cont_columns:\n",
    "    d = save_table[[c, 'Calibration Technique']]\n",
    "    d1 = d[d['Calibration Technique'] == 'subject split'].dropna()\n",
    "    d2 = d[d['Calibration Technique'] == 'personalization'].dropna()\n",
    "    hist1, edge1 = np.histogram(d1[c], bins=10)\n",
    "    hist2, edge2 = np.histogram(d2[c], bins=10)\n",
    "    if 'Number of ' in c:\n",
    "        p1 = figure(title='', width=500, height=350, min_border=0, tools='', background_fill_color=\"#fafafa\", toolbar_location=None, x_axis_type='log')\n",
    "        hist1, edge1 = np.histogram(np.log10(d1[c].astype(float)), bins=10)\n",
    "        edge1 = np.power(10, edge1)\n",
    "    else:\n",
    "        p1 = figure(title='', width=500, height=350, min_border=0, tools='', background_fill_color=\"#fafafa\", toolbar_location=None)\n",
    "    p2 = figure(title='', width=500, height=350, min_border=0, tools=[], background_fill_color=\"#fafafa\", toolbar_location=None)\n",
    "    p1.quad(top=hist1, bottom=0, fill_color='#beaed4', line_color=\"white\", left=edge1[:-1], right=edge1[1:])\n",
    "    p2.quad(top=hist2, bottom=0, fill_color='#fdc086', line_color=\"white\", left=edge2[:-1], right=edge2[1:])\n",
    "    \n",
    "    p1.y_range = Range1d(0, hist1.max())\n",
    "    if 'STD' in c:\n",
    "        p1.xaxis.axis_label = c + ' (mmHg)'\n",
    "        p2.xaxis.axis_label = c + ' (mmHg)'\n",
    "    else:\n",
    "        p1.xaxis.axis_label = c\n",
    "        p2.xaxis.axis_label = c\n",
    "    if ('Number of Test' in c) or ('SBP Distribution' in c) or ('SBP ED' in c):\n",
    "        p1.yaxis.axis_label = 'Number of Studies'\n",
    "    else:\n",
    "        p1.yaxis.axis_label = ''\n",
    "    p2.y_range = Range1d(0, hist2.max())\n",
    "    p1.yaxis.axis_label_text_font_size = font_size\n",
    "    p1.xaxis.axis_label_text_font_size = font_size\n",
    "    p1.yaxis.major_label_text_font_size = font_size\n",
    "    p1.xaxis.major_label_text_font_size = font_size\n",
    "    p1.title.text_font_size = font_size\n",
    "    p2.yaxis.axis_label_text_font_size = font_size\n",
    "    p2.xaxis.axis_label_text_font_size = font_size\n",
    "    p2.yaxis.major_label_text_font_size = font_size\n",
    "    p2.xaxis.major_label_text_font_size = font_size\n",
    "    p2.title.text_font_size = font_size\n",
    "    p = row(p1, p2)\n",
    "    ps.append(p)"
   ]
  },
  {
   "cell_type": "code",
   "execution_count": 16,
   "id": "5e64cae0-4d33-49f0-994a-8c49d04af0f6",
   "metadata": {},
   "outputs": [],
   "source": [
    "output_file('./_includes/metadata_stats_paperfig.html')\n",
    "grid = gridplot([[ps[0], ps[2]], [ps[1], ps[3]], [ps[4], ps[9]], \n",
    "                 [ps[5], ps[6]], [ps[7], ps[8]]])\n",
    "grid.spacing = 1"
   ]
  },
  {
   "cell_type": "code",
   "execution_count": 17,
   "id": "293635dd-11c7-4340-b70d-604dc66b7223",
   "metadata": {},
   "outputs": [
    {
     "name": "stderr",
     "output_type": "stream",
     "text": [
      "WARNING:bokeh.io.export:No SVG Plots were found.\n"
     ]
    },
    {
     "data": {
      "text/plain": [
       "[]"
      ]
     },
     "execution_count": 17,
     "metadata": {},
     "output_type": "execute_result"
    }
   ],
   "source": [
    "export_svgs(grid, filename='./_includes/metadata_stats_paperfig.svg')"
   ]
  },
  {
   "cell_type": "markdown",
   "id": "8b48db3f-4382-426b-8aed-8e7ac57c367c",
   "metadata": {
    "tags": []
   },
   "source": [
    "# Create ED Scatter Plots and generate includes, excludes, and meet specs tables"
   ]
  },
  {
   "cell_type": "code",
   "execution_count": 18,
   "id": "2956f455-4a21-4bb3-87dc-070c7c16c8c6",
   "metadata": {
    "tags": []
   },
   "outputs": [
    {
     "name": "stderr",
     "output_type": "stream",
     "text": [
      "/var/folders/4k/jr4_f2px17b2sdv74jmvp4x80000gn/T/ipykernel_55722/3394337663.py:2: SettingWithCopyWarning: \n",
      "A value is trying to be set on a copy of a slice from a DataFrame.\n",
      "Try using .loc[row_indexer,col_indexer] = value instead\n",
      "\n",
      "See the caveats in the documentation: https://pandas.pydata.org/pandas-docs/stable/user_guide/indexing.html#returning-a-view-versus-a-copy\n",
      "  meetspecs_sls['SBP ED 95CI LB'] = meetspecs_sls.apply(lambda x: np.sqrt(stats.f.isf(1-0.1, x['Number of Test Subjects']-1, x['Number of Test Subjects']-1))*x['SBP ED'], axis=1)\n",
      "/var/folders/4k/jr4_f2px17b2sdv74jmvp4x80000gn/T/ipykernel_55722/3394337663.py:3: SettingWithCopyWarning: \n",
      "A value is trying to be set on a copy of a slice from a DataFrame.\n",
      "Try using .loc[row_indexer,col_indexer] = value instead\n",
      "\n",
      "See the caveats in the documentation: https://pandas.pydata.org/pandas-docs/stable/user_guide/indexing.html#returning-a-view-versus-a-copy\n",
      "  meetspecs_sls['DBP ED 95CI LB'] = meetspecs_sls.apply(lambda x: np.sqrt(stats.f.isf(1-0.1, x['Number of Test Subjects']-1, x['Number of Test Subjects']-1))*x['DBP ED'], axis=1)\n"
     ]
    }
   ],
   "source": [
    "meetspecs_sls = sls_save_table[(sls_save_table['SBP ED'] > 2.17) & (sls_save_table['DBP ED'] > 1.39)]\n",
    "meetspecs_sls['SBP ED 95CI LB'] = meetspecs_sls.apply(lambda x: np.sqrt(stats.f.isf(1-0.1, x['Number of Test Subjects']-1, x['Number of Test Subjects']-1))*x['SBP ED'], axis=1)\n",
    "meetspecs_sls['DBP ED 95CI LB'] = meetspecs_sls.apply(lambda x: np.sqrt(stats.f.isf(1-0.1, x['Number of Test Subjects']-1, x['Number of Test Subjects']-1))*x['DBP ED'], axis=1)\n",
    "meetspecs_cols = ['Title', 'Sensor Data', 'Algorithm', 'Dataset', 'SBP ED', 'DBP ED', 'SBP Distribution STD', 'DBP Distribution STD']\n",
    "\n",
    "meetspecs_sls = meetspecs_sls[(meetspecs_sls['SBP ED 95CI LB'] > 2.17) & (meetspecs_sls['DBP ED 95CI LB'] > 1.39)].sort_values(by=['SBP ED 95CI LB','DBP ED 95CI LB'], ascending=False)\n",
    "\n",
    "for col in meetspecs_sls.select_dtypes(include=['int16', 'int32', 'int64', 'float16', 'float32', 'float64']).columns:\n",
    "    meetspecs_sls[col] = np.round(meetspecs_sls[col], 2)\n",
    "    \n",
    "\n",
    "meetspecs_sls[meetspecs_cols].to_html('./_includes/meetspecs_sls_table.html', index=False, render_links=True, table_id='mslstable', escape=False)\n",
    "\n",
    "# per_save_table[(per_save_table['SBP ED'] - per_save_table['SBP ED MOE'] > 2.17) & (per_save_table['DBP ED'] - per_save_table['DBP ED MOE'] > 1.39)]"
   ]
  },
  {
   "cell_type": "code",
   "execution_count": 19,
   "id": "31aa17c4-8a91-4ca0-9455-8767e56d4cb3",
   "metadata": {},
   "outputs": [
    {
     "data": {
      "text/html": [
       "<div>\n",
       "<style scoped>\n",
       "    .dataframe tbody tr th:only-of-type {\n",
       "        vertical-align: middle;\n",
       "    }\n",
       "\n",
       "    .dataframe tbody tr th {\n",
       "        vertical-align: top;\n",
       "    }\n",
       "\n",
       "    .dataframe thead th {\n",
       "        text-align: right;\n",
       "    }\n",
       "</style>\n",
       "<table border=\"1\" class=\"dataframe\">\n",
       "  <thead>\n",
       "    <tr style=\"text-align: right;\">\n",
       "      <th></th>\n",
       "      <th>Title</th>\n",
       "      <th>Calibration Technique</th>\n",
       "      <th>Sensor Data</th>\n",
       "      <th>Algorithm</th>\n",
       "      <th>Dataset</th>\n",
       "      <th>Number of Test Subjects</th>\n",
       "      <th>Testing Subject Characteristics</th>\n",
       "      <th>Study Characteristics</th>\n",
       "      <th>SBP Distribution STD</th>\n",
       "      <th>DBP Distribution STD</th>\n",
       "      <th>Reported Result</th>\n",
       "      <th>SBP ED</th>\n",
       "      <th>DBP ED</th>\n",
       "      <th>SBP ED MOE</th>\n",
       "      <th>DBP ED MOE</th>\n",
       "      <th>Power</th>\n",
       "      <th>Original Model Implementation Availability</th>\n",
       "      <th>Exact Dataset/Pre-processing Code Availability</th>\n",
       "      <th>SBP ED 95CI LB</th>\n",
       "      <th>DBP ED 95CI LB</th>\n",
       "    </tr>\n",
       "  </thead>\n",
       "  <tbody>\n",
       "    <tr>\n",
       "      <th>1140</th>\n",
       "      <td>&lt;a href=\"https://www.nature.com/articles/s4159...</td>\n",
       "      <td>subject split</td>\n",
       "      <td>ECG+PPG</td>\n",
       "      <td>deep learning</td>\n",
       "      <td>MIMIC</td>\n",
       "      <td>10</td>\n",
       "      <td>diseased</td>\n",
       "      <td>observational study</td>\n",
       "      <td>12.21</td>\n",
       "      <td>7.45</td>\n",
       "      <td>0.0±1.6; 0.2±1.3</td>\n",
       "      <td>7.63</td>\n",
       "      <td>5.73</td>\n",
       "      <td>5.75</td>\n",
       "      <td>4.32</td>\n",
       "      <td>0.26</td>\n",
       "      <td>NaN</td>\n",
       "      <td>NaN</td>\n",
       "      <td>4.89</td>\n",
       "      <td>3.67</td>\n",
       "    </tr>\n",
       "    <tr>\n",
       "      <th>1617</th>\n",
       "      <td>&lt;a href=\"https://ieeexplore.ieee.org/abstract/...</td>\n",
       "      <td>subject split</td>\n",
       "      <td>PPG</td>\n",
       "      <td>deep learning</td>\n",
       "      <td>MIMIC</td>\n",
       "      <td>241</td>\n",
       "      <td>diseased</td>\n",
       "      <td>observational study</td>\n",
       "      <td>30.15</td>\n",
       "      <td>18.84</td>\n",
       "      <td>0.02±5.93; 0.01±3.87</td>\n",
       "      <td>5.08</td>\n",
       "      <td>4.87</td>\n",
       "      <td>0.65</td>\n",
       "      <td>0.62</td>\n",
       "      <td>1.00</td>\n",
       "      <td>&lt;a href=\"https://github.com/Ma-Chenbin/Pseudo-...</td>\n",
       "      <td>NaN</td>\n",
       "      <td>4.68</td>\n",
       "      <td>4.48</td>\n",
       "    </tr>\n",
       "    <tr>\n",
       "      <th>1639</th>\n",
       "      <td>&lt;a href=\"https://www.sciencedirect.com/science...</td>\n",
       "      <td>subject split</td>\n",
       "      <td>ECG+PPG</td>\n",
       "      <td>deep learning</td>\n",
       "      <td>MIMIC</td>\n",
       "      <td>3000</td>\n",
       "      <td>diseased</td>\n",
       "      <td>observational study</td>\n",
       "      <td>18.70</td>\n",
       "      <td>9.20</td>\n",
       "      <td>3.52; 2.13</td>\n",
       "      <td>4.24</td>\n",
       "      <td>3.45</td>\n",
       "      <td>0.15</td>\n",
       "      <td>0.12</td>\n",
       "      <td>1.00</td>\n",
       "      <td>&lt;a href=\"https://github.com/marshb/MLP-BP\"&gt;Ava...</td>\n",
       "      <td>NaN</td>\n",
       "      <td>4.14</td>\n",
       "      <td>3.37</td>\n",
       "    </tr>\n",
       "    <tr>\n",
       "      <th>1625</th>\n",
       "      <td>&lt;a href=\"https://ieeexplore.ieee.org/abstract/...</td>\n",
       "      <td>subject split</td>\n",
       "      <td>PPG</td>\n",
       "      <td>deep learning</td>\n",
       "      <td>Internal</td>\n",
       "      <td>241</td>\n",
       "      <td>diseased</td>\n",
       "      <td>observational study</td>\n",
       "      <td>26.40</td>\n",
       "      <td>17.91</td>\n",
       "      <td>0.013±6.237; 0.011±4.453</td>\n",
       "      <td>4.23</td>\n",
       "      <td>4.02</td>\n",
       "      <td>0.54</td>\n",
       "      <td>0.51</td>\n",
       "      <td>1.00</td>\n",
       "      <td>&lt;a href=\"https://github.com/Ma-Chenbin/Pseudo-...</td>\n",
       "      <td>NaN</td>\n",
       "      <td>3.90</td>\n",
       "      <td>3.70</td>\n",
       "    </tr>\n",
       "    <tr>\n",
       "      <th>2062</th>\n",
       "      <td>&lt;a href=\"https://www.osapublishing.org/abstrac...</td>\n",
       "      <td>subject split</td>\n",
       "      <td>PPG</td>\n",
       "      <td>classical ML</td>\n",
       "      <td>Internal</td>\n",
       "      <td>179.2</td>\n",
       "      <td>unclear</td>\n",
       "      <td>observational study</td>\n",
       "      <td>24.00</td>\n",
       "      <td>10.00</td>\n",
       "      <td>4.69; 1.53</td>\n",
       "      <td>4.08</td>\n",
       "      <td>5.21</td>\n",
       "      <td>0.60</td>\n",
       "      <td>0.77</td>\n",
       "      <td>1.00</td>\n",
       "      <td>NaN</td>\n",
       "      <td>NaN</td>\n",
       "      <td>3.71</td>\n",
       "      <td>4.74</td>\n",
       "    </tr>\n",
       "    <tr>\n",
       "      <th>734</th>\n",
       "      <td>&lt;a href=\"http://dx.doi.org/10.1109/CISP-BMEI48...</td>\n",
       "      <td>subject split</td>\n",
       "      <td>BCG+PPG</td>\n",
       "      <td>classical ML</td>\n",
       "      <td>Internal</td>\n",
       "      <td>15</td>\n",
       "      <td>healthy</td>\n",
       "      <td>observational study</td>\n",
       "      <td>17.30</td>\n",
       "      <td>9.80</td>\n",
       "      <td>3.08±4.29; 1.52±2.20</td>\n",
       "      <td>4.03</td>\n",
       "      <td>4.45</td>\n",
       "      <td>2.31</td>\n",
       "      <td>2.55</td>\n",
       "      <td>0.38</td>\n",
       "      <td>NaN</td>\n",
       "      <td>NaN</td>\n",
       "      <td>2.84</td>\n",
       "      <td>3.13</td>\n",
       "    </tr>\n",
       "    <tr>\n",
       "      <th>1640</th>\n",
       "      <td>&lt;a href=\"https://www.sciencedirect.com/science...</td>\n",
       "      <td>subject split</td>\n",
       "      <td>ECG+PPG</td>\n",
       "      <td>deep learning</td>\n",
       "      <td>MIMIC+UoQ</td>\n",
       "      <td>32</td>\n",
       "      <td>diseased</td>\n",
       "      <td>observational study</td>\n",
       "      <td>18.70</td>\n",
       "      <td>9.20</td>\n",
       "      <td>4.39; 2.54</td>\n",
       "      <td>3.40</td>\n",
       "      <td>2.89</td>\n",
       "      <td>1.24</td>\n",
       "      <td>1.06</td>\n",
       "      <td>0.69</td>\n",
       "      <td>&lt;a href=\"https://github.com/marshb/MLP-BP\"&gt;Ava...</td>\n",
       "      <td>NaN</td>\n",
       "      <td>2.69</td>\n",
       "      <td>2.29</td>\n",
       "    </tr>\n",
       "    <tr>\n",
       "      <th>1066</th>\n",
       "      <td>&lt;a href=\"https://ieeexplore.ieee.org/document/...</td>\n",
       "      <td>subject split</td>\n",
       "      <td>PPG</td>\n",
       "      <td>classical ML</td>\n",
       "      <td>MIMIC</td>\n",
       "      <td>942</td>\n",
       "      <td>diseased</td>\n",
       "      <td>observational study</td>\n",
       "      <td>25.64</td>\n",
       "      <td>9.31</td>\n",
       "      <td>0.09±10.38; 0.23±4.22</td>\n",
       "      <td>2.47</td>\n",
       "      <td>2.21</td>\n",
       "      <td>0.16</td>\n",
       "      <td>0.14</td>\n",
       "      <td>1.00</td>\n",
       "      <td>&lt;a href=\"https://github.com/navidhasanzadeh/BP...</td>\n",
       "      <td>&lt;a href=\"https://github.com/navidhasanzadeh/BP...</td>\n",
       "      <td>2.37</td>\n",
       "      <td>2.12</td>\n",
       "    </tr>\n",
       "    <tr>\n",
       "      <th>1976</th>\n",
       "      <td>&lt;a href=\"http://ojs.midem-drustvo.si/index.php...</td>\n",
       "      <td>subject split</td>\n",
       "      <td>ultrasound</td>\n",
       "      <td>physiological model</td>\n",
       "      <td>Internal</td>\n",
       "      <td>211</td>\n",
       "      <td>healthy</td>\n",
       "      <td>observational study</td>\n",
       "      <td>11.28</td>\n",
       "      <td>10.91</td>\n",
       "      <td>-0.233±4.538; 0.118±4.218</td>\n",
       "      <td>2.49</td>\n",
       "      <td>2.59</td>\n",
       "      <td>0.34</td>\n",
       "      <td>0.35</td>\n",
       "      <td>1.00</td>\n",
       "      <td>NaN</td>\n",
       "      <td>NaN</td>\n",
       "      <td>2.27</td>\n",
       "      <td>2.37</td>\n",
       "    </tr>\n",
       "  </tbody>\n",
       "</table>\n",
       "</div>"
      ],
      "text/plain": [
       "                                                  Title Calibration Technique  \\\n",
       "1140  <a href=\"https://www.nature.com/articles/s4159...         subject split   \n",
       "1617  <a href=\"https://ieeexplore.ieee.org/abstract/...         subject split   \n",
       "1639  <a href=\"https://www.sciencedirect.com/science...         subject split   \n",
       "1625  <a href=\"https://ieeexplore.ieee.org/abstract/...         subject split   \n",
       "2062  <a href=\"https://www.osapublishing.org/abstrac...         subject split   \n",
       "734   <a href=\"http://dx.doi.org/10.1109/CISP-BMEI48...         subject split   \n",
       "1640  <a href=\"https://www.sciencedirect.com/science...         subject split   \n",
       "1066  <a href=\"https://ieeexplore.ieee.org/document/...         subject split   \n",
       "1976  <a href=\"http://ojs.midem-drustvo.si/index.php...         subject split   \n",
       "\n",
       "     Sensor Data            Algorithm    Dataset Number of Test Subjects  \\\n",
       "1140     ECG+PPG        deep learning      MIMIC                      10   \n",
       "1617         PPG        deep learning      MIMIC                     241   \n",
       "1639     ECG+PPG        deep learning      MIMIC                    3000   \n",
       "1625         PPG        deep learning   Internal                     241   \n",
       "2062         PPG         classical ML   Internal                   179.2   \n",
       "734      BCG+PPG         classical ML   Internal                      15   \n",
       "1640     ECG+PPG        deep learning  MIMIC+UoQ                      32   \n",
       "1066         PPG         classical ML      MIMIC                     942   \n",
       "1976  ultrasound  physiological model   Internal                     211   \n",
       "\n",
       "     Testing Subject Characteristics Study Characteristics  \\\n",
       "1140                        diseased   observational study   \n",
       "1617                        diseased   observational study   \n",
       "1639                        diseased   observational study   \n",
       "1625                        diseased   observational study   \n",
       "2062                         unclear   observational study   \n",
       "734                          healthy   observational study   \n",
       "1640                        diseased   observational study   \n",
       "1066                        diseased   observational study   \n",
       "1976                         healthy   observational study   \n",
       "\n",
       "      SBP Distribution STD  DBP Distribution STD            Reported Result  \\\n",
       "1140                 12.21                  7.45           0.0±1.6; 0.2±1.3   \n",
       "1617                 30.15                 18.84       0.02±5.93; 0.01±3.87   \n",
       "1639                 18.70                  9.20                 3.52; 2.13   \n",
       "1625                 26.40                 17.91  0.013±6.237; 0.011±4.453    \n",
       "2062                 24.00                 10.00                 4.69; 1.53   \n",
       "734                  17.30                  9.80       3.08±4.29; 1.52±2.20   \n",
       "1640                 18.70                  9.20                 4.39; 2.54   \n",
       "1066                 25.64                  9.31      0.09±10.38; 0.23±4.22   \n",
       "1976                 11.28                 10.91  -0.233±4.538; 0.118±4.218   \n",
       "\n",
       "      SBP ED  DBP ED  SBP ED MOE  DBP ED MOE  Power  \\\n",
       "1140    7.63    5.73        5.75        4.32   0.26   \n",
       "1617    5.08    4.87        0.65        0.62   1.00   \n",
       "1639    4.24    3.45        0.15        0.12   1.00   \n",
       "1625    4.23    4.02        0.54        0.51   1.00   \n",
       "2062    4.08    5.21        0.60        0.77   1.00   \n",
       "734     4.03    4.45        2.31        2.55   0.38   \n",
       "1640    3.40    2.89        1.24        1.06   0.69   \n",
       "1066    2.47    2.21        0.16        0.14   1.00   \n",
       "1976    2.49    2.59        0.34        0.35   1.00   \n",
       "\n",
       "             Original Model Implementation Availability  \\\n",
       "1140                                                NaN   \n",
       "1617  <a href=\"https://github.com/Ma-Chenbin/Pseudo-...   \n",
       "1639  <a href=\"https://github.com/marshb/MLP-BP\">Ava...   \n",
       "1625  <a href=\"https://github.com/Ma-Chenbin/Pseudo-...   \n",
       "2062                                                NaN   \n",
       "734                                                 NaN   \n",
       "1640  <a href=\"https://github.com/marshb/MLP-BP\">Ava...   \n",
       "1066  <a href=\"https://github.com/navidhasanzadeh/BP...   \n",
       "1976                                                NaN   \n",
       "\n",
       "         Exact Dataset/Pre-processing Code Availability  SBP ED 95CI LB  \\\n",
       "1140                                                NaN            4.89   \n",
       "1617                                                NaN            4.68   \n",
       "1639                                                NaN            4.14   \n",
       "1625                                                NaN            3.90   \n",
       "2062                                                NaN            3.71   \n",
       "734                                                 NaN            2.84   \n",
       "1640                                                NaN            2.69   \n",
       "1066  <a href=\"https://github.com/navidhasanzadeh/BP...            2.37   \n",
       "1976                                                NaN            2.27   \n",
       "\n",
       "      DBP ED 95CI LB  \n",
       "1140            3.67  \n",
       "1617            4.48  \n",
       "1639            3.37  \n",
       "1625            3.70  \n",
       "2062            4.74  \n",
       "734             3.13  \n",
       "1640            2.29  \n",
       "1066            2.12  \n",
       "1976            2.37  "
      ]
     },
     "execution_count": 19,
     "metadata": {},
     "output_type": "execute_result"
    }
   ],
   "source": [
    "meetspecs_sls"
   ]
  },
  {
   "cell_type": "code",
   "execution_count": 20,
   "id": "6b88787c-cc35-4ddc-8840-10f2d749af66",
   "metadata": {
    "tags": []
   },
   "outputs": [
    {
     "name": "stderr",
     "output_type": "stream",
     "text": [
      "/var/folders/4k/jr4_f2px17b2sdv74jmvp4x80000gn/T/ipykernel_55722/2903807737.py:3: SettingWithCopyWarning: \n",
      "A value is trying to be set on a copy of a slice from a DataFrame.\n",
      "Try using .loc[row_indexer,col_indexer] = value instead\n",
      "\n",
      "See the caveats in the documentation: https://pandas.pydata.org/pandas-docs/stable/user_guide/indexing.html#returning-a-view-versus-a-copy\n",
      "  exclude_table['Year'] = exclude_table['Year'].fillna(0)\n",
      "/var/folders/4k/jr4_f2px17b2sdv74jmvp4x80000gn/T/ipykernel_55722/2903807737.py:4: SettingWithCopyWarning: \n",
      "A value is trying to be set on a copy of a slice from a DataFrame.\n",
      "Try using .loc[row_indexer,col_indexer] = value instead\n",
      "\n",
      "See the caveats in the documentation: https://pandas.pydata.org/pandas-docs/stable/user_guide/indexing.html#returning-a-view-versus-a-copy\n",
      "  exclude_table['Authors'] = exclude_table['Authors'].fillna('Not Available')\n",
      "/var/folders/4k/jr4_f2px17b2sdv74jmvp4x80000gn/T/ipykernel_55722/2903807737.py:5: SettingWithCopyWarning: \n",
      "A value is trying to be set on a copy of a slice from a DataFrame.\n",
      "Try using .loc[row_indexer,col_indexer] = value instead\n",
      "\n",
      "See the caveats in the documentation: https://pandas.pydata.org/pandas-docs/stable/user_guide/indexing.html#returning-a-view-versus-a-copy\n",
      "  exclude_table['Title'] = make_clickable(exclude_table['Title'] + ' ' + exclude_table['Year'].astype(int).astype(str), exclude_table['ArticleURL'])\n",
      "/var/folders/4k/jr4_f2px17b2sdv74jmvp4x80000gn/T/ipykernel_55722/2903807737.py:6: SettingWithCopyWarning: \n",
      "A value is trying to be set on a copy of a slice from a DataFrame.\n",
      "Try using .loc[row_indexer,col_indexer] = value instead\n",
      "\n",
      "See the caveats in the documentation: https://pandas.pydata.org/pandas-docs/stable/user_guide/indexing.html#returning-a-view-versus-a-copy\n",
      "  exclude_table['Authors'] = exclude_table['Authors'].apply(compress_authors) + ' et al.'\n"
     ]
    }
   ],
   "source": [
    "# get exclude table\n",
    "exclude_table = data[data['Include'] == 0]\n",
    "exclude_table['Year'] = exclude_table['Year'].fillna(0)\n",
    "exclude_table['Authors'] = exclude_table['Authors'].fillna('Not Available')\n",
    "exclude_table['Title'] = make_clickable(exclude_table['Title'] + ' ' + exclude_table['Year'].astype(int).astype(str), exclude_table['ArticleURL'])\n",
    "exclude_table['Authors'] = exclude_table['Authors'].apply(compress_authors) + ' et al.'\n",
    "exclude_table = exclude_table[['Title', 'Authors', 'Exclude Reason']]\n",
    "exclude_table.to_html('./_includes/exclude_table.html', index=False, render_links=True, table_id='etable', escape=False)"
   ]
  },
  {
   "cell_type": "code",
   "execution_count": 21,
   "id": "feb5c592-e9f5-46d4-b171-07229d89511d",
   "metadata": {},
   "outputs": [],
   "source": [
    "hover = HoverTool(\n",
    "        tooltips=\"\"\"\n",
    "        <div>\n",
    "            <div>\n",
    "                <span style=\"font-size: 20px\"> @{Hover Title} </span> <br>\n",
    "                <span style=\"font-size: 10px\"> @{Title} </span> <br>\n",
    "                <span style=\"font-size: 10px\"> Sensor Data: @{Sensor Data}</span> <br>\n",
    "                <span style=\"font-size: 10px\"> SBP/DBP Reported Result (mmHg): @{SBP Reported Error Raw} /  @{DBP Reported Error Raw} </span> <br>\n",
    "                <span style=\"font-size: 10px\"> SBP Explained Deviation ± Margin of Error: @{SBP ED} ± @{SBP ED MOE}</span> <br>\n",
    "                <span style=\"font-size: 10px\"> DBP Explained Deviation ± Margin of Error: @{DBP ED} ± @{DBP ED MOE}</span> <br>\n",
    "                <span style=\"font-size: 10px\"> SBP Distribution STD: @{SBP Distribution STD} mmHg </span> <br>\n",
    "                <span style=\"font-size: 10px\"> DBP Distribution STD: @{DBP Distribution STD} mmHg </span> <br>\n",
    "                <span style=\"font-size: 10px\"> Power: @{Power}</span> <br>\n",
    "                <span style=\"font-size: 10px\"> Number of Test Subjects: @{Number of Test Subjects}</span> <br>\n",
    "                <span style=\"font-size: 10px\"> Study Characteristics: @{Study Characteristics}</span>\n",
    "            </div>\n",
    "        </div>\n",
    "        \"\"\"\n",
    "    )\n",
    "cs = ['#a6cee3', '#1f78b4', '#b2df8a', '#33a02c', '#fb9a99', '#e31a1c', '#fdbf6f', '#ff7f00', '#cab2d6', '#6a3d9a', '#ffff99', '#b15928', '#8dd3c7', '#ffffb3', '#bebada', '#fb8072', '#80b1d3', '#fdb462', '#b3de69', '#fccde5', '#d9d9d9', '#bc80bd', '#ccebc5', '#ffed6f']"
   ]
  },
  {
   "cell_type": "code",
   "execution_count": 22,
   "id": "1fb521d8-87c2-423f-af05-8a8f0afe7a4a",
   "metadata": {},
   "outputs": [],
   "source": [
    "plot_df_sls = sls_save_table[sls_save_table['Calibration Technique'] == 'subject split'].dropna(subset=['SBP ED', 'DBP ED'], axis=0)\n",
    "Y = plot_df_sls['SBP ED']\n",
    "X = plot_df_sls['DBP ED']\n",
    "plot_df_sls_x = np.linspace(X.min(), X.max(), 100)\n",
    "plot_df_sls_x = sm.add_constant(plot_df_sls_x)\n",
    "X = sm.add_constant(X)\n",
    "\n",
    "model = sm.OLS(Y,X)\n",
    "results = model.fit()\n",
    "sls_params = results.params.values\n",
    "sls_pval = results.pvalues[1]\n",
    "sls_y = results.predict(plot_df_sls_x)\n",
    "sls_x = plot_df_sls_x[:, 1]\n",
    "sls_ci = results.conf_int().values[1, :]\n",
    "\n",
    "plot_df_per = per_save_table[per_save_table['Calibration Technique'] == 'personalization'].dropna(subset=['SBP ED', 'DBP ED'], axis=0)\n",
    "Y = plot_df_per['SBP ED']\n",
    "X = plot_df_per['DBP ED']\n",
    "plot_df_per_x = np.linspace(X.min(), X.max(), 100)\n",
    "plot_df_per_x = sm.add_constant(plot_df_per_x)\n",
    "X = sm.add_constant(X)\n",
    "\n",
    "model = sm.OLS(Y,X)\n",
    "results = model.fit()\n",
    "per_params = results.params.values\n",
    "per_pval = results.pvalues[1]\n",
    "per_y = results.predict(plot_df_per_x)\n",
    "per_x = plot_df_per_x[:, 1]\n",
    "per_ci = results.conf_int().values[1, :]\n",
    "\n",
    "# overall\n",
    "plot_df = save_table.dropna(subset=['SBP ED', 'DBP ED'], axis=0)\n",
    "Y = plot_df['SBP ED']\n",
    "X = plot_df['DBP ED']\n",
    "plot_df_x = np.linspace(X.min(), X.max(), 100)\n",
    "plot_df_x = sm.add_constant(plot_df_x)\n",
    "X = sm.add_constant(X)\n",
    "\n",
    "model = sm.OLS(Y,X)\n",
    "results = model.fit()\n",
    "params = results.params.values\n",
    "pval = results.pvalues[1]\n",
    "y = results.predict(plot_df_x)\n",
    "x = plot_df_x[:, 1]\n",
    "ci = results.conf_int().values[1, :]"
   ]
  },
  {
   "cell_type": "code",
   "execution_count": null,
   "id": "6cf8bdae-033b-4d12-b022-27664d069bee",
   "metadata": {
    "tags": []
   },
   "outputs": [
    {
     "name": "stderr",
     "output_type": "stream",
     "text": [
      "WARNING:bokeh.io.export:No SVG Plots were found.\n"
     ]
    },
    {
     "data": {
      "text/plain": [
       "[]"
      ]
     },
     "execution_count": 23,
     "metadata": {},
     "output_type": "execute_result"
    }
   ],
   "source": [
    "output_file('./_includes/scatter.html')\n",
    "\n",
    "p51 = figure(title='', background_fill_color=\"#fafafa\", width=800, height=600, toolbar_location=None, tools=[hover, 'pan', 'wheel_zoom' ,'box_zoom', 'reset'])\n",
    "p51.xaxis.axis_label = 'DBP Explained Deviation'\n",
    "p51.yaxis.axis_label = 'SBP Explained Deviation'\n",
    "# p2 = figure(title='Personalization', background_fill_color=\"#fafafa\", width=725, height=500, toolbar_location=None, tools=[hover, 'pan', 'wheel_zoom' ,'box_zoom', 'reset'])\n",
    "# p2.xaxis.axis_label = 'DBP Explained Deviation'\n",
    "# p2.yaxis.axis_label = 'SBP Explained Deviation'\n",
    "\n",
    "box = BoxAnnotation(bottom=2.17, left=1.39, fill_alpha=0.05, fill_color='green', line_width=5, line_dash = 'dashed', line_color='green', line_alpha=0.05)\n",
    "p51.add_layout(box)\n",
    "# p2.add_layout(box)\n",
    "\n",
    "plot_df = df_concat.copy()\n",
    "\n",
    "colors = {}\n",
    "u_sd = plot_df['Sensor Data'].unique()\n",
    "for i in range(len(u_sd)):\n",
    "    colors[u_sd[i]] = cs[i]\n",
    "plot_df['Color'] = [colors[i] for i in plot_df['Sensor Data']]\n",
    "plot_df['Size'] = 10/np.sqrt(plot_df['DBP ED MOE']+plot_df['SBP ED MOE'])\n",
    "plot_df['Hover Title'] = plot_df['Authors'] + ' (' + plot_df['Year'].astype(int).astype(str) + ')'\n",
    "\n",
    "legend_it = []\n",
    "for i in range(len(u_sd)):\n",
    "    d1 = plot_df[plot_df['Sensor Data'] == u_sd[i]]\n",
    "    sls = d1[d1['Calibration Technique'] == 'subject split']\n",
    "    per = d1[d1['Calibration Technique'] == 'personalization']\n",
    "    c1 = p51.scatter(x='DBP ED', y='SBP ED', size='Size', source=ColumnDataSource(sls), fill_alpha=0.4, color='Color', muted_alpha=0, name='subject split', marker='triangle')\n",
    "    c2 = p51.scatter('DBP ED', 'SBP ED', size='Size', source=ColumnDataSource(per), fill_alpha=0.4, color='Color', muted_alpha=0, name='personalization', marker='plus')\n",
    "    c3 = p51.scatter('DBP ED', 'SBP ED', size='Size', source=ColumnDataSource(sls), fill_alpha=0.4, color='Color', muted_alpha=0, visible = False, marker='triangle')\n",
    "    taptool1 = p51.select(type=TapTool)\n",
    "    taptool1.callback = OpenURL(url='@ArticleURL')\n",
    "    # taptool2 = p2.select(type=TapTool)\n",
    "    # taptool2.callback = OpenURL(url='@ArticleURL')\n",
    "    legend_it.append((u_sd[i], [c1, c2, c3]))\n",
    "    legend = Legend(items=legend_it)\n",
    "    legend.click_policy='mute'\n",
    "    legend.location = 'top_left'\n",
    "\n",
    "c100 = p51.line(x, y, line_width=3, legend_label='Slope=' + \"{:.3f}\".format(params[1]) + ' (CI = [' + \"{:.3f}\".format(ci[0]) + ', ' + \"{:.3f}\".format(ci[1]) + '], ' + 'p=' + \"{:.1e}\".format(pval) + '*)')\n",
    "# c101 = p2.line(per_x, per_y, line_width=3, legend_label='Slope=' + \"{:.3f}\".format(per_params[1]) + ' (CI = [' + \"{:.3f}\".format(per_ci[0]) + ', ' + \"{:.3f}\".format(per_ci[1]) + '], ' + 'p=' + \"{:.1e}\".format(per_pval) + ')')\n",
    "    \n",
    "# p2.add_layout(legend, 'right')\n",
    "p51.add_layout(legend, 'right')\n",
    "\n",
    "MARKERS = ['triangle', 'plus']\n",
    "labels = ['subject split', 'personalization']\n",
    "rs = p51.scatter(x=0, y=0, color=\"grey\", marker=MARKERS)\n",
    "rs.visible = False\n",
    "legend2 = Legend(items=[LegendItem(label=labels[i], renderers=[rs], index=i) for i, s in enumerate(MARKERS)\n",
    "], location=\"bottom_right\")\n",
    "p51.add_layout(legend2)\n",
    "\n",
    "show(p51)\n",
    "\n",
    "export_svgs(grid, filename='./_includes/scatter.svg')"
   ]
  },
  {
   "cell_type": "markdown",
   "id": "7a2266f1-044b-40b5-b7c3-38a953f33ca7",
   "metadata": {
    "tags": []
   },
   "source": [
    "# Create Code Availability Table"
   ]
  },
  {
   "cell_type": "code",
   "execution_count": null,
   "id": "85eb57f8-5147-42f4-8f5d-53866dfe41bd",
   "metadata": {},
   "outputs": [],
   "source": [
    "save_cols = ['Title', 'Authors', 'ArticleURL', 'Year', 'Sensor Data', 'Number of Test Subjects', 'Dataset', 'Calibration Technique', 'SBP ED', 'DBP ED', 'Original Model Implementation Availability', 'Original Model Implementation Link', 'Exact Dataset/Pre-processing Code Availability', 'Exact Dataset/Pre-processing Code Link', 'wearablebp.github.io Implementation Result']\n",
    "availability_table = df_concat.copy()[save_cols]\n",
    "availability_table['Title'] = make_clickable(availability_table['Title'] + ' (' + availability_table['Authors'] + ', ' + availability_table['Year'].astype(int).astype(str) + ')', availability_table['ArticleURL'])\n",
    "# availability_table.drop('ArticleURL', axis=1, inplace=True)\n",
    "\n",
    "availability_table['Original Model Implementation Availability'] = make_clickable(availability_table['Original Model Implementation Availability'], availability_table['Original Model Implementation Link'])\n",
    "availability_table['Exact Dataset/Pre-processing Code Availability'] = make_clickable(availability_table['Exact Dataset/Pre-processing Code Availability'], availability_table['Exact Dataset/Pre-processing Code Link'])\n",
    "\n",
    "availability_table[['Title', 'Sensor Data', 'Dataset', 'Calibration Technique', 'SBP ED', 'DBP ED', 'Original Model Implementation Availability', 'Exact Dataset/Pre-processing Code Availability', ]].rename({'SBP ED':'Reported SBP ED', 'DBP ED': 'Reported DBP ED'}, axis=1).to_html('./_includes/availability_table.html', index=False, render_links=True, table_id='atable', escape=False)"
   ]
  },
  {
   "cell_type": "markdown",
   "id": "f80fa987-4dbd-4db3-8b08-ecfc38d9463c",
   "metadata": {
    "tags": []
   },
   "source": [
    "# Other paper plots"
   ]
  },
  {
   "cell_type": "markdown",
   "id": "9f4d653c-1c21-4057-aa0e-8088635aa765",
   "metadata": {
    "tags": []
   },
   "source": [
    "## Error vs STD"
   ]
  },
  {
   "cell_type": "code",
   "execution_count": null,
   "id": "55c6dfb9-f748-4215-bfbc-c2dbcf134b00",
   "metadata": {},
   "outputs": [],
   "source": [
    "# remove outlier based on influence z > 4\n",
    "plot_df = plot_df.drop([806])"
   ]
  },
  {
   "cell_type": "code",
   "execution_count": null,
   "id": "df8e653b-328f-4094-86f8-d14fcdc03cce",
   "metadata": {},
   "outputs": [],
   "source": [
    "Y = plot_df['SBP Error STD']\n",
    "X = plot_df['SBP Distribution STD']\n",
    "sbp_x = np.linspace(X.min(), X.max(), 100)\n",
    "sbp_x = sm.add_constant(sbp_x)\n",
    "X = sm.add_constant(X)\n",
    "\n",
    "model = sm.OLS(Y,X)\n",
    "results = model.fit()\n",
    "sbp_params = results.params.values\n",
    "sbp_pval = results.pvalues[1]\n",
    "sbp_y = results.predict(sbp_x)\n",
    "sbp_x = sbp_x[:, 1]\n",
    "sbp_ci = results.conf_int().values[1, :]"
   ]
  },
  {
   "cell_type": "code",
   "execution_count": null,
   "id": "478a7742-cb7d-4d15-8cb9-bb6b3b38a155",
   "metadata": {},
   "outputs": [],
   "source": [
    "XY = plot_df[['DBP Error STD', 'DBP Distribution STD']].dropna()\n",
    "Y = XY['DBP Error STD']\n",
    "X = XY['DBP Distribution STD']\n",
    "dbp_x = np.linspace(X.min(), X.max(), 100)\n",
    "dbp_x = sm.add_constant(dbp_x)\n",
    "X = sm.add_constant(X)\n",
    "\n",
    "model = sm.OLS(Y,X)\n",
    "results = model.fit()\n",
    "dbp_params = results.params.values\n",
    "dbp_pval = results.pvalues[1]\n",
    "dbp_y = results.predict(dbp_x)\n",
    "dbp_x = dbp_x[:, 1]\n",
    "dbp_ci = results.conf_int().values[1, :]"
   ]
  },
  {
   "cell_type": "code",
   "execution_count": null,
   "id": "98de9c09-5f15-4444-8e73-2cba3253b7bc",
   "metadata": {},
   "outputs": [
    {
     "data": {
      "text/plain": [
       "(array([0.17967958, 0.50814122]),\n",
       " array([0.04843184, 0.52083914]),\n",
       " 8.646556898654812e-05,\n",
       " 0.018951174246888986)"
      ]
     },
     "execution_count": 28,
     "metadata": {},
     "output_type": "execute_result"
    }
   ],
   "source": [
    "sbp_ci, dbp_ci, sbp_pval, dbp_pval"
   ]
  },
  {
   "cell_type": "code",
   "execution_count": null,
   "id": "f5c9850b-9388-4fc5-9cbe-a3adeed10abf",
   "metadata": {},
   "outputs": [],
   "source": [
    "# from statsmodels.stats.outliers_influence import OLSInfluence\n",
    "# infl = OLSInfluence(results).influence\n",
    "# infl[stats.zscore(infl) > 4]"
   ]
  },
  {
   "cell_type": "code",
   "execution_count": null,
   "id": "14ec5ff1-fe4d-4e22-8514-dac607d82746",
   "metadata": {},
   "outputs": [],
   "source": [
    "Y = plot_df[plot_df['Calibration Technique'] == 'subject split']['SBP Error STD']\n",
    "X = plot_df[plot_df['Calibration Technique'] == 'subject split']['SBP Distribution STD']\n",
    "sls_sbp_x = np.linspace(X.min(), X.max(), 100)\n",
    "sls_sbp_x = sm.add_constant(sls_sbp_x)\n",
    "X = sm.add_constant(X)\n",
    "\n",
    "model = sm.OLS(Y,X)\n",
    "results = model.fit()\n",
    "sls_sbp_params = results.params.values\n",
    "sls_sbp_pval = results.pvalues[1]\n",
    "sls_sbp_y = results.predict(sls_sbp_x)\n",
    "sls_sbp_x = sls_sbp_x[:, 1]\n",
    "sls_sbp_ci = results.conf_int().values[1, :]\n",
    "\n",
    "dbp_plot_df = plot_df.dropna(subset=['DBP Distribution STD', 'DBP Error STD'], axis=0)\n",
    "Y = dbp_plot_df[dbp_plot_df['Calibration Technique'] == 'subject split']['DBP Error STD']\n",
    "X = dbp_plot_df[dbp_plot_df['Calibration Technique'] == 'subject split']['DBP Distribution STD']\n",
    "sls_dbp_x = np.linspace(X.min(), X.max(), 100)\n",
    "sls_dbp_x = sm.add_constant(sls_dbp_x)\n",
    "X = sm.add_constant(X)\n",
    "\n",
    "model = sm.OLS(Y,X)\n",
    "results = model.fit()\n",
    "sls_dbp_params = results.params.values\n",
    "sls_dbp_pval = results.pvalues[1]\n",
    "sls_dbp_y = results.predict(sls_dbp_x)\n",
    "sls_dbp_x = sls_dbp_x[:, 1]\n",
    "sls_dbp_ci = results.conf_int().values[1, :]\n",
    "\n",
    "Y = plot_df[plot_df['Calibration Technique'] == 'personalization']['SBP Error STD']\n",
    "X = plot_df[plot_df['Calibration Technique'] == 'personalization']['SBP Distribution STD']\n",
    "per_sbp_x = np.linspace(X.min(), X.max(), 100)\n",
    "per_sbp_x = sm.add_constant(per_sbp_x)\n",
    "X = sm.add_constant(X)\n",
    "\n",
    "model = sm.OLS(Y,X)\n",
    "results = model.fit()\n",
    "per_sbp_params = results.params.values\n",
    "per_sbp_pval = results.pvalues[1]\n",
    "per_sbp_y = results.predict(per_sbp_x)\n",
    "per_sbp_x = per_sbp_x[:, 1]\n",
    "per_sbp_ci = results.conf_int().values[1, :]\n",
    "\n",
    "dbp_plot_df = plot_df.dropna(subset=['DBP Distribution STD', 'DBP Error STD'], axis=0)\n",
    "Y = dbp_plot_df[dbp_plot_df['Calibration Technique'] == 'personalization']['DBP Error STD']\n",
    "X = dbp_plot_df[dbp_plot_df['Calibration Technique'] == 'personalization']['DBP Distribution STD']\n",
    "per_dbp_x = np.linspace(X.min(), X.max(), 100)\n",
    "per_dbp_x = sm.add_constant(per_dbp_x)\n",
    "X = sm.add_constant(X)\n",
    "\n",
    "model = sm.OLS(Y,X)\n",
    "results = model.fit()\n",
    "per_dbp_params = results.params.values\n",
    "per_dbp_pval = results.pvalues[1]\n",
    "per_dbp_y = results.predict(per_dbp_x)\n",
    "per_dbp_x = per_dbp_x[:, 1]\n",
    "per_dbp_ci = results.conf_int().values[1, :]"
   ]
  },
  {
   "cell_type": "code",
   "execution_count": null,
   "id": "a2445337-2dd9-4867-823b-e39565a82aa4",
   "metadata": {},
   "outputs": [
    {
     "data": {
      "text/plain": [
       "(array([0.12434603, 0.51364521]),\n",
       " array([-0.01369147,  0.54681781]),\n",
       " array([0.49722951, 0.87213572]),\n",
       " array([0.14996848, 1.05186997]))"
      ]
     },
     "execution_count": 31,
     "metadata": {},
     "output_type": "execute_result"
    }
   ],
   "source": [
    "sls_sbp_ci, sls_dbp_ci, per_sbp_ci, per_dbp_ci"
   ]
  },
  {
   "cell_type": "code",
   "execution_count": null,
   "id": "a0571e57-cc9e-491d-ba78-fdf5d67d42b5",
   "metadata": {},
   "outputs": [
    {
     "name": "stderr",
     "output_type": "stream",
     "text": [
      "WARNING:bokeh.io.export:No SVG Plots were found.\n"
     ]
    },
    {
     "data": {
      "text/plain": [
       "[]"
      ]
     },
     "execution_count": 32,
     "metadata": {},
     "output_type": "execute_result"
    }
   ],
   "source": [
    "hover = HoverTool(\n",
    "        tooltips=\"\"\"\n",
    "        <div>\n",
    "            <div>\n",
    "                <span style=\"font-size: 20px\"> @{Hover Title} </span> <br>\n",
    "                <span style=\"font-size: 10px\"> @{Title} </span> <br>\n",
    "                <span style=\"font-size: 10px\"> Sensor Data: @{Sensor Data}</span> <br>\n",
    "                <span style=\"font-size: 10px\"> SBP/DBP Reported Result (mmHg): @{SBP Reported Error Raw} /  @{DBP Reported Error Raw} </span> <br>\n",
    "                <span style=\"font-size: 10px\"> SBP Explained Deviation: @{SBP ED}</span> <br>\n",
    "                <span style=\"font-size: 10px\"> DBP Explained Deviation: @{DBP ED}</span> <br>\n",
    "                <span style=\"font-size: 10px\"> SBP Distribution STD: @{SBP Distribution STD} mmHg </span> <br>\n",
    "                <span style=\"font-size: 10px\"> DBP Distribution STD: @{DBP Distribution STD} mmHg </span> <br>\n",
    "                <span style=\"font-size: 10px\"> Power: @{Power}</span> <br>\n",
    "                <span style=\"font-size: 10px\"> Number of Test Subjects: @{Number of Test Subjects}</span> <br>\n",
    "                <span style=\"font-size: 10px\"> Study Characteristics: @{Study Characteristics}</span>\n",
    "            </div>\n",
    "        </div>\n",
    "        \"\"\"\n",
    "    )\n",
    "cs = ['#a6cee3', '#1f78b4', '#b2df8a', '#33a02c', '#fb9a99', '#e31a1c', '#fdbf6f', '#ff7f00', '#cab2d6', '#6a3d9a', '#ffff99', '#b15928', '#ffffb3', '#bebada', '#fb8072', '#80b1d3', '#fdb462', '#b3de69', '#fccde5', '#d9d9d9', '#bc80bd', '#ccebc5', '#ffed6f']\n",
    "\n",
    "p203 = figure(title='', background_fill_color=\"#fafafa\", width=500, height=600, toolbar_location=None, tools=[hover, 'pan', 'wheel_zoom' ,'box_zoom', 'reset'])\n",
    "p203.xaxis.axis_label = 'SBP Distribution STD (mmHg)'\n",
    "p203.yaxis.axis_label = 'SBP Error STD (mmHg)'\n",
    "p205 = figure(title='', background_fill_color=\"#fafafa\", width=725, height=600, toolbar_location=None, tools=[hover, 'pan', 'wheel_zoom' ,'box_zoom', 'reset'])\n",
    "p205.xaxis.axis_label = 'DBP Distribution STD (mmHg)'\n",
    "p205.yaxis.axis_label = 'DBP Error STD (mmHg)'\n",
    "\n",
    "plot_df = df_concat.copy()\n",
    "plot_df.drop([806], inplace=True)\n",
    "\n",
    "colors = {}\n",
    "u_sd = plot_df['Sensor Data'].unique()\n",
    "for i in range(len(u_sd)):\n",
    "    colors[u_sd[i]] = cs[i]\n",
    "plot_df['Color'] = [colors[i] for i in plot_df['Sensor Data']]\n",
    "plot_df['Size'] = plot_df['Power']*15\n",
    "plot_df['Hover Title'] = plot_df['Authors'] + ' (' + plot_df['Year'].astype(int).astype(str) + ')'\n",
    "\n",
    "legend_it201 = []\n",
    "for i in range(len(u_sd)):\n",
    "    d1 = plot_df[plot_df['Sensor Data'] == u_sd[i]]\n",
    "    d1 = d1.dropna(subset=['Sensor Data'])\n",
    "    if len(d1) > 0:\n",
    "        c204 = p203.scatter('SBP Distribution STD', 'SBP Error STD', source=ColumnDataSource(d1), fill_alpha=0.4, size='Size', color='Color', muted_alpha=0)\n",
    "        taptool1 = p203.select(type=TapTool)\n",
    "        taptool1.callback = OpenURL(url='@ArticleURL')\n",
    "\n",
    "        c207 = p205.scatter('DBP Distribution STD', 'DBP Error STD', source=ColumnDataSource(d1), fill_alpha=0.4, size='Size', color='Color', muted_alpha=0)\n",
    "        taptool3 = p205.select(type=TapTool)\n",
    "        taptool3.callback = OpenURL(url='@ArticleURL')\n",
    "        legend_it201.append((u_sd[i], [c204, c207]))\n",
    "        legend201 = Legend(items=legend_it201)\n",
    "        legend201.click_policy='mute'\n",
    "    \n",
    "c10 = p203.line(sbp_x, sbp_y, line_width=3, legend_label='Slope=' + \"{:.3f}\".format(sbp_params[1]) + '(CI = [' + \"{:.3f}\".format(sbp_ci[0]) + ', ' + \"{:.3f}\".format(sbp_ci[1]) + '], ' +'p=' + \"{:.1e}\".format(sbp_pval) + '*)')\n",
    "c12 = p205.line(dbp_x, dbp_y, line_width=3, legend_label='Slope=' + \"{:.3f}\".format(dbp_params[1]) + ' (CI = [' + \"{:.3f}\".format(dbp_ci[0]) + ', ' + \"{:.3f}\".format(dbp_ci[1]) + '], ' + 'p=' + \"{:.1e}\".format(dbp_pval) + '*)')\n",
    "p205.add_layout(legend201, 'right')\n",
    "\n",
    "output_file('./_includes/scatter_std_err.html')\n",
    "show(row([p203, p205]))\n",
    "\n",
    "export_svgs(row([p203, p205]), filename='./_includes/scatter_std_err.svg')"
   ]
  },
  {
   "cell_type": "markdown",
   "id": "33eb3900-2f51-4da8-9754-06eb24d1a4d0",
   "metadata": {
    "tags": []
   },
   "source": [
    "## Time vs Accuracy Scatter Plot"
   ]
  },
  {
   "cell_type": "code",
   "execution_count": null,
   "id": "0f577844-819e-4578-920b-4b571c1136b3",
   "metadata": {
    "tags": []
   },
   "outputs": [
    {
     "name": "stderr",
     "output_type": "stream",
     "text": [
      "/var/folders/4k/jr4_f2px17b2sdv74jmvp4x80000gn/T/ipykernel_55722/189921704.py:29: SettingWithCopyWarning: \n",
      "A value is trying to be set on a copy of a slice from a DataFrame.\n",
      "Try using .loc[row_indexer,col_indexer] = value instead\n",
      "\n",
      "See the caveats in the documentation: https://pandas.pydata.org/pandas-docs/stable/user_guide/indexing.html#returning-a-view-versus-a-copy\n",
      "  per['Calibration Technique'] = per['Calibration Technique'].str.split(';', expand=True)[0]\n",
      "/var/folders/4k/jr4_f2px17b2sdv74jmvp4x80000gn/T/ipykernel_55722/189921704.py:48: SettingWithCopyWarning: \n",
      "A value is trying to be set on a copy of a slice from a DataFrame.\n",
      "Try using .loc[row_indexer,col_indexer] = value instead\n",
      "\n",
      "See the caveats in the documentation: https://pandas.pydata.org/pandas-docs/stable/user_guide/indexing.html#returning-a-view-versus-a-copy\n",
      "  per_mae['SBP Error STD'] = per_mae['SBP Reported Error Raw'].astype(float)*np.sqrt(pi/2)\n",
      "/var/folders/4k/jr4_f2px17b2sdv74jmvp4x80000gn/T/ipykernel_55722/189921704.py:49: SettingWithCopyWarning: \n",
      "A value is trying to be set on a copy of a slice from a DataFrame.\n",
      "Try using .loc[row_indexer,col_indexer] = value instead\n",
      "\n",
      "See the caveats in the documentation: https://pandas.pydata.org/pandas-docs/stable/user_guide/indexing.html#returning-a-view-versus-a-copy\n",
      "  per_mae['DBP Error STD'] = per_mae['DBP Reported Error Raw'].astype(float)*np.sqrt(pi/2)\n",
      "/var/folders/4k/jr4_f2px17b2sdv74jmvp4x80000gn/T/ipykernel_55722/189921704.py:51: SettingWithCopyWarning: \n",
      "A value is trying to be set on a copy of a slice from a DataFrame.\n",
      "Try using .loc[row_indexer,col_indexer] = value instead\n",
      "\n",
      "See the caveats in the documentation: https://pandas.pydata.org/pandas-docs/stable/user_guide/indexing.html#returning-a-view-versus-a-copy\n",
      "  per_me['SBP Error STD'] = per_me['SBP Reported Error Raw'].str.split('±', expand=True)[1].astype(float)\n",
      "/var/folders/4k/jr4_f2px17b2sdv74jmvp4x80000gn/T/ipykernel_55722/189921704.py:52: SettingWithCopyWarning: \n",
      "A value is trying to be set on a copy of a slice from a DataFrame.\n",
      "Try using .loc[row_indexer,col_indexer] = value instead\n",
      "\n",
      "See the caveats in the documentation: https://pandas.pydata.org/pandas-docs/stable/user_guide/indexing.html#returning-a-view-versus-a-copy\n",
      "  per_me['DBP Error STD'] = per_me['DBP Reported Error Raw'].str.split('±', expand=True)[1].astype(float)\n"
     ]
    }
   ],
   "source": [
    "def convert_dt(x):\n",
    "    # if 's' in x:\n",
    "    #     if x.split('s')[0] == '0':\n",
    "    #         return 0\n",
    "    #     return np.log10(int(x.split('s')[0]))+0\n",
    "    # elif 'm' in x:\n",
    "    #     return np.log10(int(x.split('m')[0]))+1\n",
    "    # elif 'h' in x:\n",
    "    #     return np.log10(int(x.split('h')[0]))+2\n",
    "    # elif 'd' in x:\n",
    "    #     return np.log10(int(x.split('d')[0]))+3\n",
    "    # elif 'mon' in x:\n",
    "    #     return np.log10(int(x.split('mon')[0]))+4\n",
    "    if 's' in x:\n",
    "        if x.split('s')[0] == '0':\n",
    "            return 0\n",
    "        return np.log10(int(x.split('s')[0]))\n",
    "    elif 'm' in x:\n",
    "        return np.log10(int(x.split('m')[0])*60)\n",
    "    elif 'h' in x:\n",
    "        return np.log10(int(x.split('h')[0])*60*60)\n",
    "    elif 'd' in x:\n",
    "        return np.log10(int(x.split('d')[0])*60*60*24)\n",
    "    elif 'mon' in x:\n",
    "        return np.log10(int(x.split('mon')[0])*60*60*24*30)\n",
    "\n",
    "per = data[(data['Include'] == 1) & (data['Study Characteristics'].str.contains('observational')) & (data['Time between Calibration and Test'].str.contains('unclear') == False) & (data['Time between Calibration and Test'].str.contains('heart beats') == False) & ((data['Evaluation Metric'] == 'MAE') | (data['Evaluation Metric'] == 'ME'))]\n",
    "\n",
    "per['Calibration Technique'] = per['Calibration Technique'].str.split(';', expand=True)[0]\n",
    "per = per[per['Calibration Technique'] == 'personalization']\n",
    "per['log_dt'] = per['Time between Calibration and Test'].apply(convert_dt)\n",
    "\n",
    "per['Sensor Data'] = per['Key Devices and Measurements'].str.split(';', expand=True)[0]\n",
    "per['Calibration Technique'] = per['Calibration Technique'].str.split(';', expand=True)[0]\n",
    "per['Algorithm'] = per['Algorithm'].str.split(';', expand=True)[0]\n",
    "per['Dataset'] = per['Dataset'].str.split(';', expand=True)[0]\n",
    "per['Testing Subject Characteristics'] = per['Testing Subject Characteristics'].str.split(';', expand=True)[0]\n",
    "per['Study Characteristics'] = per['Study Characteristics'].str.split(';', expand=True)[0]\n",
    "per['Algorithm'] = per['Algorithm'].str.split(';', expand=True)[0]\n",
    "per['SBP Distribution Raw'] = per['BP Distribution'].str.split(';', expand=True)[0]\n",
    "per['SBP Distribution STD'] = per['SBP Distribution Raw'].str.split('±', expand=True)[1].astype(float)\n",
    "per['DBP Distribution Raw'] = per['BP Distribution'].str.split(';', expand=True)[1]\n",
    "per['DBP Distribution STD'] = per['DBP Distribution Raw'].str.split('±', expand=True)[1].astype(float)\n",
    "per['SBP Reported Error Raw'] = per['Reported Result'].str.split(';', expand=True)[0]\n",
    "per['DBP Reported Error Raw'] = per['Reported Result'].str.split(';', expand=True)[1]\n",
    "\n",
    "per_mae = per[per['Evaluation Metric'] == 'MAE']\n",
    "per_mae['SBP Error STD'] = per_mae['SBP Reported Error Raw'].astype(float)*np.sqrt(pi/2)\n",
    "per_mae['DBP Error STD'] = per_mae['DBP Reported Error Raw'].astype(float)*np.sqrt(pi/2)\n",
    "per_me = per[per['Evaluation Metric'] == 'ME']\n",
    "per_me['SBP Error STD'] = per_me['SBP Reported Error Raw'].str.split('±', expand=True)[1].astype(float)\n",
    "per_me['DBP Error STD'] = per_me['DBP Reported Error Raw'].str.split('±', expand=True)[1].astype(float)\n",
    "per_concat = pd.concat([per_me, per_mae], axis=0)\n",
    "per_concat['SBP ED'] = per_concat['SBP Distribution STD']/per_concat['SBP Error STD']\n",
    "per_concat['DBP ED'] = per_concat['DBP Distribution STD']/per_concat['DBP Error STD']\n",
    "\n",
    "per_concat['Number of Test Subjects'] = per_concat['Number of Test Subjects'].replace({'unclear': np.NaN})\n",
    "per_concat = per_concat.dropna(subset=['Number of Test Subjects'])\n",
    "per_concat['Power'] = per_concat['Number of Test Subjects'].astype(float).apply(compute_power)"
   ]
  },
  {
   "cell_type": "code",
   "execution_count": null,
   "id": "dd367a83-3c15-4aad-8f00-baff5253b2af",
   "metadata": {},
   "outputs": [],
   "source": [
    "per_concat_sbp = per_concat.dropna(subset=['SBP Error STD', 'log_dt'], axis=0)\n",
    "per_concat_sbp = per_concat_sbp[per_concat_sbp['log_dt'] >= 0]\n",
    "Y = per_concat_sbp['SBP Error STD']\n",
    "X = per_concat_sbp['log_dt']\n",
    "per_sbp_x = np.linspace(X.min(), X.max(), 100)\n",
    "per_sbp_x = sm.add_constant(per_sbp_x)\n",
    "X = sm.add_constant(X)\n",
    "\n",
    "model = sm.OLS(Y,X)\n",
    "results = model.fit()\n",
    "per_sbp_params = results.params.values\n",
    "per_sbp_pval = results.pvalues[1]\n",
    "per_sbp_y = results.predict(per_sbp_x)\n",
    "per_sbp_x = per_sbp_x[:, 1]\n",
    "per_sbp_ci = results.conf_int().values[1, :]\n",
    "\n",
    "per_concat_dbp = per_concat.dropna(subset=['DBP Error STD', 'log_dt'], axis=0)\n",
    "per_concat_dbp = per_concat_dbp[per_concat_dbp['log_dt'] >= 0]\n",
    "Y = per_concat_dbp['DBP Error STD']\n",
    "X = per_concat_dbp['log_dt']\n",
    "per_dbp_x = np.linspace(X.min(), X.max(), 100)\n",
    "per_dbp_x = sm.add_constant(per_dbp_x)\n",
    "X = sm.add_constant(X)\n",
    "\n",
    "model = sm.OLS(Y,X)\n",
    "results = model.fit()\n",
    "per_dbp_params = results.params.values\n",
    "per_dbp_pval = results.pvalues[1]\n",
    "per_dbp_y = results.predict(per_dbp_x)\n",
    "per_dbp_x = per_dbp_x[:, 1]\n",
    "per_dbp_ci = results.conf_int().values[1, :]"
   ]
  },
  {
   "cell_type": "code",
   "execution_count": null,
   "id": "1b683f5a-de21-43d5-b1a8-646e72248b1e",
   "metadata": {},
   "outputs": [
    {
     "data": {
      "text/plain": [
       "(array([0.43392871, 1.0920085 ]), array([0.37504581, 0.79198235]))"
      ]
     },
     "execution_count": 35,
     "metadata": {},
     "output_type": "execute_result"
    }
   ],
   "source": [
    "per_sbp_ci, per_dbp_ci"
   ]
  },
  {
   "cell_type": "code",
   "execution_count": 36,
   "id": "23133e50-5a29-474b-9fbf-6727d0379b4f",
   "metadata": {},
   "outputs": [
    {
     "name": "stderr",
     "output_type": "stream",
     "text": [
      "WARNING:bokeh.io.export:No SVG Plots were found.\n"
     ]
    },
    {
     "data": {
      "text/plain": [
       "[]"
      ]
     },
     "execution_count": 36,
     "metadata": {},
     "output_type": "execute_result"
    }
   ],
   "source": [
    "output_file('./_includes/scatter_time.html')\n",
    "\n",
    "hover = HoverTool(\n",
    "        tooltips=\"\"\"\n",
    "        <div>\n",
    "            <div>\n",
    "                <span style=\"font-size: 20px\"> @{Hover Title} </span> <br>\n",
    "                <span style=\"font-size: 10px\"> @{Title} </span> <br>\n",
    "                <span style=\"font-size: 10px\"> Sensor Data: @{Sensor Data}</span> <br>\n",
    "                <span style=\"font-size: 10px\"> SBP/DBP Reported Result (mmHg): @{SBP Reported Error Raw} /  @{DBP Reported Error Raw} </span> <br>\n",
    "                <span style=\"font-size: 10px\"> SBP Explained Deviation: @{SBP ED}</span> <br>\n",
    "                <span style=\"font-size: 10px\"> DBP Explained Deviation: @{DBP ED}</span> <br>\n",
    "                <span style=\"font-size: 10px\"> SBP Distribution STD: @{SBP Distribution STD} mmHg </span> <br>\n",
    "                <span style=\"font-size: 10px\"> DBP Distribution STD: @{DBP Distribution STD} mmHg </span> <br>\n",
    "                <span style=\"font-size: 10px\"> Power: @{Power}</span> <br>\n",
    "                <span style=\"font-size: 10px\"> Number of Test Subjects: @{Number of Test Subjects}</span> <br>\n",
    "                <span style=\"font-size: 10px\"> Study Characteristics: @{Study Characteristics}</span>\n",
    "            </div>\n",
    "        </div>\n",
    "        \"\"\"\n",
    "    )\n",
    "cs = ['#a6cee3', '#1f78b4', '#b2df8a', '#33a02c', '#fb9a99', '#e31a1c', '#fdbf6f', '#ff7f00', '#cab2d6', '#6a3d9a', '#ffff99', '#b15928', '#8dd3c7', '#ffffb3', '#bebada', '#fb8072', '#80b1d3', '#fdb462', '#b3de69', '#fccde5', '#d9d9d9', '#bc80bd', '#ccebc5', '#ffed6f']\n",
    "\n",
    "p10 = figure(title='', background_fill_color=\"#fafafa\", width=500, height=500, toolbar_location=None, tools=[hover, 'pan', 'wheel_zoom' ,'box_zoom', 'reset'])\n",
    "p10.xaxis.axis_label = 'Time between calibration and test (log(seconds))'\n",
    "p10.yaxis.axis_label = 'SBP Error STD (mmHg)'\n",
    "\n",
    "p11 = figure(title='', background_fill_color=\"#fafafa\", width=745, height=500, toolbar_location=None, tools=[hover, 'pan', 'wheel_zoom' ,'box_zoom', 'reset'])\n",
    "p11.xaxis.axis_label = 'Time between calibration and test (log(seconds))'\n",
    "p11.yaxis.axis_label = 'DBP Error STD (mmHg)'\n",
    "\n",
    "plot_df = per_concat.copy()\n",
    "\n",
    "colors = {}\n",
    "u_sd = plot_df['Sensor Data'].unique()\n",
    "for i in range(len(u_sd)):\n",
    "    colors[u_sd[i]] = cs[i]\n",
    "plot_df['Color'] = [colors[i] for i in plot_df['Sensor Data']]\n",
    "plot_df['Size'] = plot_df['Power']*15\n",
    "plot_df['Hover Title'] = plot_df['Authors'] + ' (' + plot_df['Year'].astype(int).astype(str) + ')'\n",
    "\n",
    "legend_it1 = []\n",
    "for i in range(len(u_sd)):\n",
    "    d1 = plot_df[plot_df['Sensor Data'] == u_sd[i]]\n",
    "    per = d1[d1['Calibration Technique'] == 'personalization']\n",
    "    c4 = p10.scatter('log_dt', 'SBP Error STD', source=ColumnDataSource(per), fill_alpha=0.4, size='Size', color='Color', muted_alpha=0)\n",
    "    c5 = p11.scatter('log_dt', 'SBP Error STD', source=ColumnDataSource(per), fill_alpha=0.4, size='Size', color='Color', muted_alpha=0)\n",
    "    c6 = p11.scatter('log_dt', 'DBP Error STD', source=ColumnDataSource(per), fill_alpha=0.4, size='Size', color='Color', muted_alpha=0, visible = False)\n",
    "    taptool1 = p10.select(type=TapTool)\n",
    "    taptool1.callback = OpenURL(url='@ArticleURL')\n",
    "    taptool2 = p11.select(type=TapTool)\n",
    "    taptool2.callback = OpenURL(url='@ArticleURL')\n",
    "\n",
    "    legend_it1.append((u_sd[i], [c4, c5, c6]))\n",
    "    legend1 = Legend(items=legend_it1)\n",
    "    legend1.click_policy='mute'\n",
    "\n",
    "c10 = p10.line(per_sbp_x, per_sbp_y, line_width=3, legend_label='Slope=' + \"{:.3f}\".format(per_sbp_params[1]) + ' (CI = [' + \"{:.3f}\".format(per_sbp_ci[0]) + ', ' + \"{:.3f}\".format(per_sbp_ci[1]) + '], ' + 'p=' + \"{:.1e}\".format(per_sbp_pval) + '*)')\n",
    "c11 = p11.line(per_dbp_x, per_dbp_y, line_width=3, legend_label='Slope=' + \"{:.3f}\".format(per_dbp_params[1]) + ' (CI = [' + \"{:.3f}\".format(per_dbp_ci[0]) + ', ' + \"{:.3f}\".format(per_dbp_ci[1]) + '], ' + 'p=' + \"{:.1e}\".format(per_dbp_pval) + '*)')\n",
    "    \n",
    "p11.add_layout(legend1, 'right')\n",
    "# p6.add_layout(legend2, 'right')\n",
    "# p1.add_layout(legend, 'right')\n",
    "\n",
    "p10.xaxis.ticker = [0, np.log10(60), np.log10(60*60), np.log10(60*60*24), np.log10(60*60*24*30)]\n",
    "p10.xaxis.major_label_overrides = {0: '0 seconds', np.log10(60): '1 minute', np.log10(60*60): '1 hour', np.log10(60*60*24): '1 day', np.log10(60*60*24*30):'1 month'}\n",
    "p11.xaxis.ticker = [0, np.log10(60), np.log10(60*60), np.log10(60*60*24), np.log10(60*60*24*30)]\n",
    "p11.xaxis.major_label_overrides = {0: '0 seconds', np.log10(60): '1 minute', np.log10(60*60): '1 hour', np.log10(60*60*24): '1 day', np.log10(60*60*24*30):'1 month'}\n",
    "\n",
    "show(row([p10, p11]))\n",
    "\n",
    "export_svgs(row([p10, p11]), filename='./_includes/scatter_time.svg')"
   ]
  },
  {
   "cell_type": "markdown",
   "id": "d514fe84-de32-411c-beab-c7b7293ff598",
   "metadata": {
    "tags": []
   },
   "source": [
    "# Supplementary\n",
    "\n",
    "stratify: calibration technique, algorithm, Dataset, Testing Subject Characteristics, Study Characteristics, Sensor Data\n",
    "\n",
    "regress: Number of Test Subjects, Power, SBP Distribution STD, DBP Distribution STD, SBP Error STD, DBP Error STD, SBP ED, DBP ED\n",
    "\n",
    "find significant relationships"
   ]
  },
  {
   "cell_type": "code",
   "execution_count": 37,
   "id": "8d1facb8-c512-4799-9d61-18226173255f",
   "metadata": {},
   "outputs": [
    {
     "data": {
      "text/html": [
       "<div>\n",
       "<style scoped>\n",
       "    .dataframe tbody tr th:only-of-type {\n",
       "        vertical-align: middle;\n",
       "    }\n",
       "\n",
       "    .dataframe tbody tr th {\n",
       "        vertical-align: top;\n",
       "    }\n",
       "\n",
       "    .dataframe thead th {\n",
       "        text-align: right;\n",
       "    }\n",
       "</style>\n",
       "<table border=\"1\" class=\"dataframe\">\n",
       "  <thead>\n",
       "    <tr style=\"text-align: right;\">\n",
       "      <th></th>\n",
       "      <th>Reg1</th>\n",
       "      <th>Reg2</th>\n",
       "      <th>Cat</th>\n",
       "      <th>Slope</th>\n",
       "      <th>p-value</th>\n",
       "      <th>CI</th>\n",
       "      <th>Significant</th>\n",
       "    </tr>\n",
       "  </thead>\n",
       "  <tbody>\n",
       "    <tr>\n",
       "      <th>0</th>\n",
       "      <td>Power</td>\n",
       "      <td>SBP_Distribution_STD</td>\n",
       "      <td>None</td>\n",
       "      <td>0.013872</td>\n",
       "      <td>0.009299</td>\n",
       "      <td>[0.0035321960694526533, 0.02421142872404166]</td>\n",
       "      <td>True</td>\n",
       "    </tr>\n",
       "    <tr>\n",
       "      <th>6</th>\n",
       "      <td>Power</td>\n",
       "      <td>DBP_Distribution_STD</td>\n",
       "      <td>None</td>\n",
       "      <td>0.020371</td>\n",
       "      <td>0.04535</td>\n",
       "      <td>[0.000434268981885446, 0.040307939832806824]</td>\n",
       "      <td>True</td>\n",
       "    </tr>\n",
       "    <tr>\n",
       "      <th>36</th>\n",
       "      <td>SBP_Distribution_STD</td>\n",
       "      <td>DBP_Distribution_STD</td>\n",
       "      <td>None</td>\n",
       "      <td>1.464376</td>\n",
       "      <td>0.0</td>\n",
       "      <td>[1.172250586034283, 1.7565015460130362]</td>\n",
       "      <td>True</td>\n",
       "    </tr>\n",
       "    <tr>\n",
       "      <th>42</th>\n",
       "      <td>SBP_Distribution_STD</td>\n",
       "      <td>SBP_Error_STD</td>\n",
       "      <td>None</td>\n",
       "      <td>0.464294</td>\n",
       "      <td>0.002724</td>\n",
       "      <td>[0.16648951462267625, 0.7620984946526272]</td>\n",
       "      <td>True</td>\n",
       "    </tr>\n",
       "    <tr>\n",
       "      <th>43</th>\n",
       "      <td>SBP_Distribution_STD</td>\n",
       "      <td>SBP_Error_STD</td>\n",
       "      <td>Calibration_Technique</td>\n",
       "      <td>[6.368339723225742, 0.5134189772504254]</td>\n",
       "      <td>[0.0007723130990519831, 0.0004387761977549178]</td>\n",
       "      <td>[[2.760844243374591, 9.975835203076894], [0.23...</td>\n",
       "      <td>True</td>\n",
       "    </tr>\n",
       "    <tr>\n",
       "      <th>54</th>\n",
       "      <td>SBP_Distribution_STD</td>\n",
       "      <td>SBP_ED</td>\n",
       "      <td>None</td>\n",
       "      <td>1.763589</td>\n",
       "      <td>0.003148</td>\n",
       "      <td>[0.6142843785783108, 2.912892811366108]</td>\n",
       "      <td>True</td>\n",
       "    </tr>\n",
       "    <tr>\n",
       "      <th>55</th>\n",
       "      <td>SBP_Distribution_STD</td>\n",
       "      <td>SBP_ED</td>\n",
       "      <td>Calibration_Technique</td>\n",
       "      <td>[4.24463573983304, 1.3698654527034773]</td>\n",
       "      <td>[0.03747606618214087, 0.02362982759397234]</td>\n",
       "      <td>[[0.25337551301073846, 8.235895966655342], [0....</td>\n",
       "      <td>True</td>\n",
       "    </tr>\n",
       "    <tr>\n",
       "      <th>60</th>\n",
       "      <td>SBP_Distribution_STD</td>\n",
       "      <td>DBP_ED</td>\n",
       "      <td>None</td>\n",
       "      <td>1.748497</td>\n",
       "      <td>0.01152</td>\n",
       "      <td>[0.40533252520145524, 3.091660844268658]</td>\n",
       "      <td>True</td>\n",
       "    </tr>\n",
       "    <tr>\n",
       "      <th>78</th>\n",
       "      <td>DBP_Distribution_STD</td>\n",
       "      <td>SBP_ED</td>\n",
       "      <td>None</td>\n",
       "      <td>0.83107</td>\n",
       "      <td>0.00968</td>\n",
       "      <td>[0.2083403488500003, 1.4537993977406085]</td>\n",
       "      <td>True</td>\n",
       "    </tr>\n",
       "    <tr>\n",
       "      <th>84</th>\n",
       "      <td>DBP_Distribution_STD</td>\n",
       "      <td>DBP_ED</td>\n",
       "      <td>None</td>\n",
       "      <td>1.113576</td>\n",
       "      <td>0.002144</td>\n",
       "      <td>[0.41776001880786884, 1.809392844971783]</td>\n",
       "      <td>True</td>\n",
       "    </tr>\n",
       "    <tr>\n",
       "      <th>85</th>\n",
       "      <td>DBP_Distribution_STD</td>\n",
       "      <td>DBP_ED</td>\n",
       "      <td>Calibration_Technique</td>\n",
       "      <td>[2.465167885856583, 0.8872911917486602]</td>\n",
       "      <td>[0.02000739495913509, 0.013621521918976623]</td>\n",
       "      <td>[[0.4008549236991499, 4.529480848014016], [0.1...</td>\n",
       "      <td>True</td>\n",
       "    </tr>\n",
       "    <tr>\n",
       "      <th>90</th>\n",
       "      <td>SBP_Error_STD</td>\n",
       "      <td>DBP_Error_STD</td>\n",
       "      <td>None</td>\n",
       "      <td>0.881825</td>\n",
       "      <td>0.0</td>\n",
       "      <td>[0.6377895702877137, 1.1258601707341784]</td>\n",
       "      <td>True</td>\n",
       "    </tr>\n",
       "    <tr>\n",
       "      <th>96</th>\n",
       "      <td>SBP_Error_STD</td>\n",
       "      <td>SBP_ED</td>\n",
       "      <td>None</td>\n",
       "      <td>-2.240302</td>\n",
       "      <td>0.0</td>\n",
       "      <td>[-2.9984903759408286, -1.4821131991467706]</td>\n",
       "      <td>True</td>\n",
       "    </tr>\n",
       "    <tr>\n",
       "      <th>100</th>\n",
       "      <td>SBP_Error_STD</td>\n",
       "      <td>SBP_ED</td>\n",
       "      <td>Testing_Subject_Characteristics</td>\n",
       "      <td>[-4.444014733755226, -2.52019070299656, -4.319...</td>\n",
       "      <td>[4.995383885973632e-05, 0.041098985945599714, ...</td>\n",
       "      <td>[[-6.486669854254888, -2.401359613255563], [-4...</td>\n",
       "      <td>True</td>\n",
       "    </tr>\n",
       "    <tr>\n",
       "      <th>102</th>\n",
       "      <td>SBP_Error_STD</td>\n",
       "      <td>DBP_ED</td>\n",
       "      <td>None</td>\n",
       "      <td>-2.063086</td>\n",
       "      <td>0.00005</td>\n",
       "      <td>[-3.0126679345640044, -1.1135036133038596]</td>\n",
       "      <td>True</td>\n",
       "    </tr>\n",
       "    <tr>\n",
       "      <th>108</th>\n",
       "      <td>DBP_Error_STD</td>\n",
       "      <td>SBP_ED</td>\n",
       "      <td>None</td>\n",
       "      <td>-1.334609</td>\n",
       "      <td>0.000066</td>\n",
       "      <td>[-1.9606475062064206, -0.7085697678622491]</td>\n",
       "      <td>True</td>\n",
       "    </tr>\n",
       "    <tr>\n",
       "      <th>114</th>\n",
       "      <td>DBP_Error_STD</td>\n",
       "      <td>DBP_ED</td>\n",
       "      <td>None</td>\n",
       "      <td>-1.965197</td>\n",
       "      <td>0.0</td>\n",
       "      <td>[-2.617651117405419, -1.3127436050840942]</td>\n",
       "      <td>True</td>\n",
       "    </tr>\n",
       "    <tr>\n",
       "      <th>120</th>\n",
       "      <td>SBP_ED</td>\n",
       "      <td>DBP_ED</td>\n",
       "      <td>None</td>\n",
       "      <td>0.942885</td>\n",
       "      <td>0.0</td>\n",
       "      <td>[0.7850251112021736, 1.1007447098427678]</td>\n",
       "      <td>True</td>\n",
       "    </tr>\n",
       "    <tr>\n",
       "      <th>124</th>\n",
       "      <td>SBP_ED</td>\n",
       "      <td>DBP_ED</td>\n",
       "      <td>Testing_Subject_Characteristics</td>\n",
       "      <td>[-0.4006712222215403, -0.5620826087041435, -0....</td>\n",
       "      <td>[0.04213154936171995, 0.015039555164692808, 0....</td>\n",
       "      <td>[[-0.7866471030920033, -0.014695341351077307],...</td>\n",
       "      <td>True</td>\n",
       "    </tr>\n",
       "  </tbody>\n",
       "</table>\n",
       "</div>"
      ],
      "text/plain": [
       "                     Reg1                  Reg2  \\\n",
       "0                   Power  SBP_Distribution_STD   \n",
       "6                   Power  DBP_Distribution_STD   \n",
       "36   SBP_Distribution_STD  DBP_Distribution_STD   \n",
       "42   SBP_Distribution_STD         SBP_Error_STD   \n",
       "43   SBP_Distribution_STD         SBP_Error_STD   \n",
       "54   SBP_Distribution_STD                SBP_ED   \n",
       "55   SBP_Distribution_STD                SBP_ED   \n",
       "60   SBP_Distribution_STD                DBP_ED   \n",
       "78   DBP_Distribution_STD                SBP_ED   \n",
       "84   DBP_Distribution_STD                DBP_ED   \n",
       "85   DBP_Distribution_STD                DBP_ED   \n",
       "90          SBP_Error_STD         DBP_Error_STD   \n",
       "96          SBP_Error_STD                SBP_ED   \n",
       "100         SBP_Error_STD                SBP_ED   \n",
       "102         SBP_Error_STD                DBP_ED   \n",
       "108         DBP_Error_STD                SBP_ED   \n",
       "114         DBP_Error_STD                DBP_ED   \n",
       "120                SBP_ED                DBP_ED   \n",
       "124                SBP_ED                DBP_ED   \n",
       "\n",
       "                                 Cat  \\\n",
       "0                               None   \n",
       "6                               None   \n",
       "36                              None   \n",
       "42                              None   \n",
       "43             Calibration_Technique   \n",
       "54                              None   \n",
       "55             Calibration_Technique   \n",
       "60                              None   \n",
       "78                              None   \n",
       "84                              None   \n",
       "85             Calibration_Technique   \n",
       "90                              None   \n",
       "96                              None   \n",
       "100  Testing_Subject_Characteristics   \n",
       "102                             None   \n",
       "108                             None   \n",
       "114                             None   \n",
       "120                             None   \n",
       "124  Testing_Subject_Characteristics   \n",
       "\n",
       "                                                 Slope  \\\n",
       "0                                             0.013872   \n",
       "6                                             0.020371   \n",
       "36                                            1.464376   \n",
       "42                                            0.464294   \n",
       "43             [6.368339723225742, 0.5134189772504254]   \n",
       "54                                            1.763589   \n",
       "55              [4.24463573983304, 1.3698654527034773]   \n",
       "60                                            1.748497   \n",
       "78                                             0.83107   \n",
       "84                                            1.113576   \n",
       "85             [2.465167885856583, 0.8872911917486602]   \n",
       "90                                            0.881825   \n",
       "96                                           -2.240302   \n",
       "100  [-4.444014733755226, -2.52019070299656, -4.319...   \n",
       "102                                          -2.063086   \n",
       "108                                          -1.334609   \n",
       "114                                          -1.965197   \n",
       "120                                           0.942885   \n",
       "124  [-0.4006712222215403, -0.5620826087041435, -0....   \n",
       "\n",
       "                                               p-value  \\\n",
       "0                                             0.009299   \n",
       "6                                              0.04535   \n",
       "36                                                 0.0   \n",
       "42                                            0.002724   \n",
       "43      [0.0007723130990519831, 0.0004387761977549178]   \n",
       "54                                            0.003148   \n",
       "55          [0.03747606618214087, 0.02362982759397234]   \n",
       "60                                             0.01152   \n",
       "78                                             0.00968   \n",
       "84                                            0.002144   \n",
       "85         [0.02000739495913509, 0.013621521918976623]   \n",
       "90                                                 0.0   \n",
       "96                                                 0.0   \n",
       "100  [4.995383885973632e-05, 0.041098985945599714, ...   \n",
       "102                                            0.00005   \n",
       "108                                           0.000066   \n",
       "114                                                0.0   \n",
       "120                                                0.0   \n",
       "124  [0.04213154936171995, 0.015039555164692808, 0....   \n",
       "\n",
       "                                                    CI Significant  \n",
       "0         [0.0035321960694526533, 0.02421142872404166]        True  \n",
       "6         [0.000434268981885446, 0.040307939832806824]        True  \n",
       "36             [1.172250586034283, 1.7565015460130362]        True  \n",
       "42           [0.16648951462267625, 0.7620984946526272]        True  \n",
       "43   [[2.760844243374591, 9.975835203076894], [0.23...        True  \n",
       "54             [0.6142843785783108, 2.912892811366108]        True  \n",
       "55   [[0.25337551301073846, 8.235895966655342], [0....        True  \n",
       "60            [0.40533252520145524, 3.091660844268658]        True  \n",
       "78            [0.2083403488500003, 1.4537993977406085]        True  \n",
       "84            [0.41776001880786884, 1.809392844971783]        True  \n",
       "85   [[0.4008549236991499, 4.529480848014016], [0.1...        True  \n",
       "90            [0.6377895702877137, 1.1258601707341784]        True  \n",
       "96          [-2.9984903759408286, -1.4821131991467706]        True  \n",
       "100  [[-6.486669854254888, -2.401359613255563], [-4...        True  \n",
       "102         [-3.0126679345640044, -1.1135036133038596]        True  \n",
       "108         [-1.9606475062064206, -0.7085697678622491]        True  \n",
       "114          [-2.617651117405419, -1.3127436050840942]        True  \n",
       "120           [0.7850251112021736, 1.1007447098427678]        True  \n",
       "124  [[-0.7866471030920033, -0.014695341351077307],...        True  "
      ]
     },
     "execution_count": 37,
     "metadata": {},
     "output_type": "execute_result"
    },
    {
     "data": {
      "image/png": "[encoded data removed]",
      "text/plain": [
       "<Figure size 640x480 with 2 Axes>"
      ]
     },
     "metadata": {},
     "output_type": "display_data"
    }
   ],
   "source": [
    "import statsmodels.formula.api as smf\n",
    "import seaborn as sns\n",
    "\n",
    "supp_df = df_concat.copy()\n",
    "supp_df.columns = [x.replace(' ', '_') for x in supp_df.columns.values]\n",
    "cats = ['Calibration Technique', 'Algorithm', 'Dataset', 'Testing Subject Characteristics', 'Sensor Data']\n",
    "regs = ['Power', 'SBP Distribution STD', 'DBP Distribution STD', 'SBP Error STD', 'DBP Error STD', 'SBP ED', 'DBP ED']\n",
    "cats = [x.replace(' ', '_') for x in cats]\n",
    "regs = [x.replace(' ', '_') for x in regs]\n",
    "\n",
    "corr = supp_df[regs].corr() \n",
    "ax = plt.axes()\n",
    "sns.heatmap(corr, xticklabels=corr.columns, yticklabels=corr.columns)\n",
    "ax.set_title('Correlation')\n",
    "\n",
    "def regress(reg1, reg2, cats, df):\n",
    "    \n",
    "    if cats == None:\n",
    "        d = df[[reg1, reg2]].dropna()\n",
    "        model = smf.ols(formula=reg1+'~'+reg2, data=d)\n",
    "        results = model.fit()\n",
    "        param = results.params[1]\n",
    "        pval = results.pvalues[1]\n",
    "        ci = results.conf_int().values[1, :]\n",
    "        sig = pval < 0.05\n",
    "    else:\n",
    "        cols = [reg1, reg2]\n",
    "        f = reg1+'~'+reg2\n",
    "        for cat in cats:\n",
    "            cols.append(cat)\n",
    "            f+='+ C('+cat+')'\n",
    "        if len(cats) == 1:\n",
    "            cats = cats[0]\n",
    "        d = df[cols].dropna()\n",
    "        model = smf.ols(formula=f, data=d)\n",
    "        results = model.fit()\n",
    "        param = results.params.values[1:]\n",
    "        pval = results.pvalues.values[1:]\n",
    "        ci = results.conf_int().values[1:, :]\n",
    "        sig = (pval < 0.05).all()\n",
    "    return results, pd.DataFrame([reg1, reg2, cats, param, pval, ci, sig]).T\n",
    "   \n",
    "    \n",
    "\n",
    "df_search = pd.DataFrame()\n",
    "plotted_pairs = []\n",
    "for reg1 in regs:\n",
    "    for reg2 in regs:\n",
    "        if (reg1 != reg2) & ((reg2, reg1) not in plotted_pairs):\n",
    "            plotted_pairs.append((reg1, reg2))\n",
    "            _, res = regress(reg1, reg2, None, supp_df)\n",
    "            df_search = pd.concat([df_search, res])\n",
    "            for cat in cats:\n",
    "                _, res2 = regress(reg1, reg2, [cat], supp_df)\n",
    "                df_search = pd.concat([df_search, res2])\n",
    "df_search.columns = ['Reg1', 'Reg2', 'Cat', 'Slope', 'p-value', 'CI', 'Significant']\n",
    "df_search.reset_index(drop=True, inplace=True)\n",
    "df_search.to_csv('supplementary/regression_results.csv', index=False)\n",
    "df_search[df_search.Significant].to_csv('supplementary/significant_regression_results.csv', index=False)\n",
    "df_search[df_search.Significant]"
   ]
  },
  {
   "cell_type": "code",
   "execution_count": 38,
   "id": "e2086e77-9b10-4e4f-b893-16def0b1ac3c",
   "metadata": {},
   "outputs": [
    {
     "data": {
      "text/html": [
       "<table class=\"simpletable\">\n",
       "<caption>OLS Regression Results</caption>\n",
       "<tr>\n",
       "  <th>Dep. Variable:</th>         <td>DBP_ED</td>      <th>  R-squared:         </th> <td>   0.716</td>\n",
       "</tr>\n",
       "<tr>\n",
       "  <th>Model:</th>                   <td>OLS</td>       <th>  Adj. R-squared:    </th> <td>   0.698</td>\n",
       "</tr>\n",
       "<tr>\n",
       "  <th>Method:</th>             <td>Least Squares</td>  <th>  F-statistic:       </th> <td>   39.75</td>\n",
       "</tr>\n",
       "<tr>\n",
       "  <th>Date:</th>             <td>Wed, 12 Jul 2023</td> <th>  Prob (F-statistic):</th> <td>1.39e-16</td>\n",
       "</tr>\n",
       "<tr>\n",
       "  <th>Time:</th>                 <td>18:13:56</td>     <th>  Log-Likelihood:    </th> <td> -59.396</td>\n",
       "</tr>\n",
       "<tr>\n",
       "  <th>No. Observations:</th>      <td>    68</td>      <th>  AIC:               </th> <td>   128.8</td>\n",
       "</tr>\n",
       "<tr>\n",
       "  <th>Df Residuals:</th>          <td>    63</td>      <th>  BIC:               </th> <td>   139.9</td>\n",
       "</tr>\n",
       "<tr>\n",
       "  <th>Df Model:</th>              <td>     4</td>      <th>                     </th>     <td> </td>   \n",
       "</tr>\n",
       "<tr>\n",
       "  <th>Covariance Type:</th>      <td>nonrobust</td>    <th>                     </th>     <td> </td>   \n",
       "</tr>\n",
       "</table>\n",
       "<table class=\"simpletable\">\n",
       "<tr>\n",
       "                             <td></td>                               <th>coef</th>     <th>std err</th>      <th>t</th>      <th>P>|t|</th>  <th>[0.025</th>    <th>0.975]</th>  \n",
       "</tr>\n",
       "<tr>\n",
       "  <th>Intercept</th>                                              <td>   -0.0357</td> <td>    0.202</td> <td>   -0.177</td> <td> 0.860</td> <td>   -0.439</td> <td>    0.368</td>\n",
       "</tr>\n",
       "<tr>\n",
       "  <th>C(Testing_Subject_Characteristics)[T.healthy]</th>          <td>    0.2144</td> <td>    0.177</td> <td>    1.209</td> <td> 0.231</td> <td>   -0.140</td> <td>    0.569</td>\n",
       "</tr>\n",
       "<tr>\n",
       "  <th>C(Testing_Subject_Characteristics)[T.healthy+diseased]</th> <td>    0.2952</td> <td>    0.208</td> <td>    1.416</td> <td> 0.162</td> <td>   -0.121</td> <td>    0.712</td>\n",
       "</tr>\n",
       "<tr>\n",
       "  <th>C(Testing_Subject_Characteristics)[T.unclear]</th>          <td>    0.8508</td> <td>    0.328</td> <td>    2.597</td> <td> 0.012</td> <td>    0.196</td> <td>    1.505</td>\n",
       "</tr>\n",
       "<tr>\n",
       "  <th>SBP_ED</th>                                                 <td>    0.7528</td> <td>    0.062</td> <td>   12.187</td> <td> 0.000</td> <td>    0.629</td> <td>    0.876</td>\n",
       "</tr>\n",
       "</table>\n",
       "<table class=\"simpletable\">\n",
       "<tr>\n",
       "  <th>Omnibus:</th>       <td> 7.358</td> <th>  Durbin-Watson:     </th> <td>   1.371</td>\n",
       "</tr>\n",
       "<tr>\n",
       "  <th>Prob(Omnibus):</th> <td> 0.025</td> <th>  Jarque-Bera (JB):  </th> <td>   8.139</td>\n",
       "</tr>\n",
       "<tr>\n",
       "  <th>Skew:</th>          <td>-0.486</td> <th>  Prob(JB):          </th> <td>  0.0171</td>\n",
       "</tr>\n",
       "<tr>\n",
       "  <th>Kurtosis:</th>      <td> 4.389</td> <th>  Cond. No.          </th> <td>    12.7</td>\n",
       "</tr>\n",
       "</table><br/><br/>Notes:<br/>[1] Standard Errors assume that the covariance matrix of the errors is correctly specified."
      ],
      "text/plain": [
       "<class 'statsmodels.iolib.summary.Summary'>\n",
       "\"\"\"\n",
       "                            OLS Regression Results                            \n",
       "==============================================================================\n",
       "Dep. Variable:                 DBP_ED   R-squared:                       0.716\n",
       "Model:                            OLS   Adj. R-squared:                  0.698\n",
       "Method:                 Least Squares   F-statistic:                     39.75\n",
       "Date:                Wed, 12 Jul 2023   Prob (F-statistic):           1.39e-16\n",
       "Time:                        18:13:56   Log-Likelihood:                -59.396\n",
       "No. Observations:                  68   AIC:                             128.8\n",
       "Df Residuals:                      63   BIC:                             139.9\n",
       "Df Model:                           4                                         \n",
       "Covariance Type:            nonrobust                                         \n",
       "==========================================================================================================================\n",
       "                                                             coef    std err          t      P>|t|      [0.025      0.975]\n",
       "--------------------------------------------------------------------------------------------------------------------------\n",
       "Intercept                                                 -0.0357      0.202     -0.177      0.860      -0.439       0.368\n",
       "C(Testing_Subject_Characteristics)[T.healthy]              0.2144      0.177      1.209      0.231      -0.140       0.569\n",
       "C(Testing_Subject_Characteristics)[T.healthy+diseased]     0.2952      0.208      1.416      0.162      -0.121       0.712\n",
       "C(Testing_Subject_Characteristics)[T.unclear]              0.8508      0.328      2.597      0.012       0.196       1.505\n",
       "SBP_ED                                                     0.7528      0.062     12.187      0.000       0.629       0.876\n",
       "==============================================================================\n",
       "Omnibus:                        7.358   Durbin-Watson:                   1.371\n",
       "Prob(Omnibus):                  0.025   Jarque-Bera (JB):                8.139\n",
       "Skew:                          -0.486   Prob(JB):                       0.0171\n",
       "Kurtosis:                       4.389   Cond. No.                         12.7\n",
       "==============================================================================\n",
       "\n",
       "Notes:\n",
       "[1] Standard Errors assume that the covariance matrix of the errors is correctly specified.\n",
       "\"\"\""
      ]
     },
     "execution_count": 38,
     "metadata": {},
     "output_type": "execute_result"
    }
   ],
   "source": [
    "res, _ = regress('DBP_ED', 'SBP_ED', ['Testing_Subject_Characteristics'], supp_df)\n",
    "res.summary()\n",
    "# between categories not significant"
   ]
  },
  {
   "cell_type": "markdown",
   "id": "10f29739-cadb-4d6e-999b-432caa9a1429",
   "metadata": {},
   "source": [
    "Plots that make sense:\n",
    "\n",
    "1. SBP/DBP Distribution STD vs Power\n",
    "2. SBP Error STD vs DBP Error STD"
   ]
  },
  {
   "cell_type": "code",
   "execution_count": 39,
   "id": "f4ddf5a7-7629-44b2-b721-54b544e52891",
   "metadata": {},
   "outputs": [
    {
     "data": {
      "text/plain": [
       "<matplotlib.legend.Legend at 0x283f3ee00>"
      ]
     },
     "execution_count": 39,
     "metadata": {},
     "output_type": "execute_result"
    },
    {
     "data": {
      "image/png": "[encoded data removed]",
      "text/plain": [
       "<Figure size 1500x500 with 2 Axes>"
      ]
     },
     "metadata": {},
     "output_type": "display_data"
    }
   ],
   "source": [
    "res_s, _ = regress('SBP_Distribution_STD', 'Power', None, supp_df)\n",
    "res_d, _ = regress('DBP_Distribution_STD', 'Power', None, supp_df)\n",
    "\n",
    "fig, ax = plt.subplots(1, 2, figsize=(15,5))    \n",
    "ax[0].scatter(supp_df['Power'], supp_df['SBP_Distribution_STD'])\n",
    "ax[0].set_xlabel('Power')\n",
    "ax[0].set_ylabel('SBP Distribution STD (mmHg)')\n",
    "plot_x = np.linspace(supp_df['Power'].min(), supp_df['Power'].max(), 100)\n",
    "ax[0].plot(plot_x, res_s.params.values[0] + res_s.params.values[1]*plot_x, linestyle='--', c='r', label='Slope='+\"{:.3f}\".format(res_s.params.values[1])+', CI = ['+\"{:.3f}\".format(res_s.conf_int().values[1:, 0][0])+', '+\"{:.3f}\".format(res_s.conf_int().values[1:, 1][0])+'], p='+\"{:.3e}\".format(res_s.pvalues.values[1]))\n",
    "ax[0].legend()\n",
    "ax[1].scatter(supp_df['Power'], supp_df['DBP_Distribution_STD'])\n",
    "ax[1].set_xlabel('Power')\n",
    "ax[1].set_ylabel('DBP Error STD (mmHg)')\n",
    "ax[1].plot(plot_x, res_d.params.values[0] + res_d.params.values[1]*plot_x, linestyle='--', c='r', label='Slope='+\"{:.3f}\".format(res_d.params.values[1])+', CI = ['+\"{:.3f}\".format(res_d.conf_int().values[1:, 0][0])+', '+\"{:.3f}\".format(res_d.conf_int().values[1:, 1][0])+'], p='+\"{:.3e}\".format(res_d.pvalues.values[1]))\n",
    "ax[1].legend()\n",
    "# res_s.summary(), res_d.summary()"
   ]
  },
  {
   "cell_type": "code",
   "execution_count": 40,
   "id": "e96f423e-163f-4adf-908a-8df183fc85a9",
   "metadata": {},
   "outputs": [
    {
     "data": {
      "text/plain": [
       "Text(0, 0.5, 'SBP Error STD')"
      ]
     },
     "execution_count": 40,
     "metadata": {},
     "output_type": "execute_result"
    },
    {
     "data": {
      "image/png": "[encoded data removed]",
      "text/plain": [
       "<Figure size 640x480 with 1 Axes>"
      ]
     },
     "metadata": {},
     "output_type": "display_data"
    }
   ],
   "source": [
    "res, _ = regress('SBP_Error_STD', 'DBP_Error_STD', None, supp_df)\n",
    "plt.scatter(supp_df['DBP_Error_STD'], supp_df['SBP_Error_STD'])\n",
    "plot_x = np.linspace(supp_df['DBP_Error_STD'].min(), supp_df['DBP_Error_STD'].max(), 100)\n",
    "plt.plot(plot_x, res.params.values[0] + res.params.values[1]*plot_x, linestyle='--', c='r', label='Slope='+\"{:.3f}\".format(res.params.values[1])+', CI = ['+\"{:.3f}\".format(res.conf_int().values[1:, 0][0])+', '+\"{:.3f}\".format(res.conf_int().values[1:, 1][0])+'], p='+\"{:.3e}\".format(res.pvalues.values[1]))\n",
    "plt.legend()\n",
    "plt.xlabel('DBP Error STD')\n",
    "plt.ylabel('SBP Error STD')"
   ]
  },
  {
   "cell_type": "code",
   "execution_count": 41,
   "id": "4619dc10-5881-4eb0-9523-099dbd73086f",
   "metadata": {},
   "outputs": [
    {
     "name": "stderr",
     "output_type": "stream",
     "text": [
      "/var/folders/4k/jr4_f2px17b2sdv74jmvp4x80000gn/T/ipykernel_55722/2158582408.py:25: UserWarning: FixedFormatter should only be used together with FixedLocator\n",
      "  ax[1].set_xticklabels(['seconds','minutes','hours','days','months'])\n"
     ]
    },
    {
     "data": {
      "text/plain": [
       "[Text(-1.0, 0, 'seconds'),\n",
       " Text(0.0, 0, 'minutes'),\n",
       " Text(1.0, 0, 'hours'),\n",
       " Text(2.0, 0, 'days'),\n",
       " Text(3.0, 0, 'months'),\n",
       " Text(4.0, 0, ''),\n",
       " Text(5.0, 0, ''),\n",
       " Text(6.0, 0, ''),\n",
       " Text(7.0, 0, ''),\n",
       " Text(8.0, 0, '')]"
      ]
     },
     "execution_count": 41,
     "metadata": {},
     "output_type": "execute_result"
    },
    {
     "data": {
      "image/png": "[encoded data removed]",
      "text/plain": [
       "<Figure size 1500x500 with 2 Axes>"
      ]
     },
     "metadata": {},
     "output_type": "display_data"
    }
   ],
   "source": [
    "fig, ax = plt.subplots(1, 2, figsize=(15, 5))\n",
    "ax[0].scatter(per_concat.log_dt, per_concat['SBP Distribution STD'])\n",
    "ax[1].scatter(per_concat.log_dt, per_concat['DBP Distribution STD'])\n",
    "\n",
    "temp_df = per_concat.copy()\n",
    "temp_df.columns = [x.replace(' ', '_') for x in temp_df.columns]\n",
    "model = smf.ols(formula='SBP_Distribution_STD ~ log_dt', data=temp_df)\n",
    "res_s = model.fit()\n",
    "model = smf.ols(formula='DBP_Distribution_STD ~ log_dt', data=temp_df)\n",
    "res_d = model.fit()\n",
    "\n",
    "plot_xs = np.linspace(temp_df['log_dt'].min(), temp_df['log_dt'].max(), 100)\n",
    "plot_xd = np.linspace(temp_df['log_dt'].min(), temp_df['log_dt'].max(), 100)\n",
    "ax[0].plot(plot_xs, res_s.params.values[0] + res_s.params.values[1]*plot_xs, linestyle='--', c='r', label='Slope='+\"{:.3f}\".format(res_s.params.values[1])+', CI = ['+\"{:.3f}\".format(res_s.conf_int().values[1:, 0][0])+', '+\"{:.3f}\".format(res_s.conf_int().values[1:, 1][0])+'], p='+\"{:.3e}\".format(res_s.pvalues.values[1]))\n",
    "ax[1].plot(plot_xs, res_d.params.values[0] + res_d.params.values[1]*plot_xd, linestyle='--', c='r', label='Slope='+\"{:.3f}\".format(res_d.params.values[1])+', CI = ['+\"{:.3f}\".format(res_d.conf_int().values[1:, 0][0])+', '+\"{:.3f}\".format(res_d.conf_int().values[1:, 1][0])+'], p='+\"{:.3e}\".format(res_d.pvalues.values[1]))\n",
    "ax[0].legend()\n",
    "ax[0].set_xticks([0,1,2,3,4])\n",
    "ax[0].set_ylabel('∆SBP Distribution STD')\n",
    "ax[0].set_xticklabels(['seconds','minutes','hours','days','months'])\n",
    "ax[0].set_xlabel('Time between calibration and test')\n",
    "ax[1].legend()\n",
    "ax[1].set_ylabel('∆DBP Distribution STD')\n",
    "ax[1].set_xlabel('Time between calibration and test')\n",
    "ax[1].set_ylabel('∆SBP Distribution STD')\n",
    "ax[1].set_xticklabels(['seconds','minutes','hours','days','months'])"
   ]
  },
  {
   "cell_type": "code",
   "execution_count": 42,
   "id": "7b31562e-8222-4bb9-9ec0-4931322dd286",
   "metadata": {
    "tags": []
   },
   "outputs": [],
   "source": [
    "for i in df_search.index:\n",
    "    dsearch = df_search.iloc[i]\n",
    "    figname = 'supplementary/other_figs/' + dsearch.Reg2+'_'+dsearch.Reg1\n",
    "    f = dsearch.Reg1+'~'+dsearch.Reg2\n",
    "    if dsearch.Cat == None:\n",
    "        plot_df = supp_df[[dsearch.Reg1, dsearch.Reg2]]\n",
    "        sns.lmplot(data=plot_df, x=dsearch.Reg2, y=dsearch.Reg1, height=5)\n",
    "    else:\n",
    "        plot_df = supp_df[[dsearch.Reg1, dsearch.Reg2, dsearch.Cat]]\n",
    "        f+='C('+dsearch.Cat+')'\n",
    "        sns.lmplot(data=plot_df, x=dsearch.Reg2, y=dsearch.Reg1, hue=dsearch.Cat, height=5)\n",
    "        figname+='_'+dsearch.Cat\n",
    "    ax = plt.gca()\n",
    "    plt.savefig(figname+'.png')\n",
    "    plt.close()"
   ]
  },
  {
   "cell_type": "code",
   "execution_count": 43,
   "id": "91a04792-22d4-40e4-96e1-053c43d462d4",
   "metadata": {},
   "outputs": [
    {
     "data": {
      "text/plain": [
       "Reg1                                                      SBP_ED\n",
       "Reg2                                                      DBP_ED\n",
       "Cat                                                  Sensor_Data\n",
       "Slope          [1.246727443712693, 1.0517765165334079, 0.3574...\n",
       "p-value        [0.07046615839704129, 0.21302567100080513, 0.6...\n",
       "CI             [[-0.10830003112731057, 2.6017549185526967], [...\n",
       "Significant                                                False\n",
       "Name: 125, dtype: object"
      ]
     },
     "execution_count": 43,
     "metadata": {},
     "output_type": "execute_result"
    }
   ],
   "source": [
    "dsearch"
   ]
  },
  {
   "cell_type": "markdown",
   "id": "1d255f34-51f3-4164-8ade-a7e10788e485",
   "metadata": {
    "tags": []
   },
   "source": [
    "# Create Benchmark Table"
   ]
  },
  {
   "cell_type": "code",
   "execution_count": 44,
   "id": "9cbc7502-48e7-41bc-a223-57ecd7eb7e4d",
   "metadata": {},
   "outputs": [],
   "source": [
    "benchmark_data = pd.read_excel('../metadata.xlsx', sheet_name='Benchmarks')\n",
    "benchmark_key = pd.read_excel('../metadata.xlsx', sheet_name='Benchmark Key')\n",
    "benchmark_data['ED'] = benchmark_data['SBP ED'].astype(str) + ':' + benchmark_data['DBP ED'].astype(str)"
   ]
  },
  {
   "cell_type": "code",
   "execution_count": 45,
   "id": "f173fe0e-2c13-48a5-9568-4568033981f2",
   "metadata": {},
   "outputs": [],
   "source": [
    "def assign_name(d, key):\n",
    "    if d == d:\n",
    "        row = key[key['Benchmark Item Name'] == d]\n",
    "        return row['Display Name'].values[0]\n",
    "    else:\n",
    "        pass\n",
    "\n",
    "cols = ['Filter', 'Estimator']\n",
    "for col in cols:\n",
    "    benchmark_data[col] = benchmark_data[col].apply(assign_name, args=(benchmark_key, ))"
   ]
  },
  {
   "cell_type": "code",
   "execution_count": 46,
   "id": "52472299-dc39-4a60-a254-174c48b8bed7",
   "metadata": {},
   "outputs": [
    {
     "name": "stderr",
     "output_type": "stream",
     "text": [
      "WARNING:bokeh.io.export:No SVG Plots were found.\n"
     ]
    },
    {
     "data": {
      "text/plain": [
       "[]"
      ]
     },
     "execution_count": 46,
     "metadata": {},
     "output_type": "execute_result"
    }
   ],
   "source": [
    "from bokeh.transform import factor_cmap, factor_mark\n",
    "from bokeh.palettes import Category10_3\n",
    "from bokeh.models import Legend, LegendItem\n",
    "\n",
    "output_file('./_includes/replicated_ed_scatter.html')\n",
    "\n",
    "hover = HoverTool(\n",
    "        tooltips=\"\"\"\n",
    "        <div>\n",
    "            <div>\n",
    "                <span style=\"font-size: 10px\"> Dataset: @{Dataset} </span> <br>\n",
    "                <span style=\"font-size: 10px\"> Filter: @{Filter} </span> <br>\n",
    "                <span style=\"font-size: 10px\"> Estimator: @{Estimator} </span> <br>\n",
    "                <span style=\"font-size: 10px\"> Reported SBP/DBP ED: @{Reported SBP ED} / @{Reported DBP ED}</span> <br>\n",
    "                <span style=\"font-size: 10px\"> Replicated SBP/DBP ED: @{SBP ED} / @{DBP ED}</span> <br>\n",
    "            </div>\n",
    "        </div>\n",
    "        \"\"\"\n",
    "    )\n",
    "\n",
    "p21 = figure(title = \"Reported vs Replicated ED for SBP and DBP\", background_fill_color=\"#fafafa\", plot_width=400, plot_height=400, toolbar_location=None, tools=[hover, 'pan', 'wheel_zoom' ,'box_zoom', 'reset'])\n",
    "p21.xaxis.axis_label = 'Reported SBP ED'\n",
    "p21.yaxis.axis_label = 'Replicated SBP ED'\n",
    "p22 = figure(title = \"\", background_fill_color=\"#fafafa\", plot_width=485, plot_height=400, toolbar_location=None, tools=[hover, 'pan', 'wheel_zoom' ,'box_zoom', 'reset'])\n",
    "p22.xaxis.axis_label = 'Reported DBP ED'\n",
    "p22.yaxis.axis_label = 'Replicated DBP ED'\n",
    "\n",
    "cs = ['#a6cee3', '#1f78b4', '#b2df8a', '#33a02c', '#fb9a99', '#e31a1c', '#fdbf6f', '#ff7f00', '#cab2d6', '#6a3d9a', '#ffff99', '#b15928', '#8dd3c7', '#ffffb3', '#bebada', '#fb8072', '#80b1d3', '#fdb462', '#b3de69', '#fccde5', '#d9d9d9', '#bc80bd', '#ccebc5', '#ffed6f']\n",
    "shapes = ['circle', 'triangle', 'diamond', 'plus']\n",
    "dset_unique = benchmark_data['Dataset'].unique()\n",
    "filter_unique = benchmark_data['Filter'].unique()\n",
    "color_dict = {}\n",
    "for i in range(len(dset_unique)):\n",
    "    color_dict[dset_unique[i]] = cs[i]\n",
    "shape_dict = {}\n",
    "for i in range(len(filter_unique)):\n",
    "    shape_dict[filter_unique[i]] = shapes[i]\n",
    "benchmark_data['color'] = benchmark_data['Dataset'].apply(lambda x: color_dict[x])\n",
    "benchmark_data['shape'] = benchmark_data['Filter'].apply(lambda x: shape_dict[x])\n",
    "\n",
    "legend_it = []\n",
    "for i in range(len(dset_unique)):\n",
    "    d = benchmark_data[benchmark_data['Dataset'] == dset_unique[i]]\n",
    "    c1 = p21.scatter('Reported SBP ED', 'SBP ED', source=ColumnDataSource(d), size=12, color='color', marker='shape')\n",
    "    c2 = p22.scatter('Reported DBP ED', 'DBP ED', source=ColumnDataSource(d), size=12, color='color', marker='shape')\n",
    "\n",
    "    legend_it.append((dset_unique[i], [c1, c2]))\n",
    "legend = Legend(items=legend_it)\n",
    "legend.click_policy='hide'\n",
    "p22.add_layout(legend, 'right')\n",
    "p22.legend.title = 'Dataset'\n",
    "\n",
    "show(row([p21, p22]))\n",
    "\n",
    "export_svgs(row([p21, p22]), filename='./_includes/replicated_ed_scatter.svg')"
   ]
  },
  {
   "cell_type": "code",
   "execution_count": 47,
   "id": "bb04c2b5-b987-48eb-a4c1-10e2b7564987",
   "metadata": {},
   "outputs": [
    {
     "name": "stderr",
     "output_type": "stream",
     "text": [
      "WARNING:bokeh.io.export:No SVG Plots were found.\n"
     ]
    },
    {
     "data": {
      "text/plain": [
       "[]"
      ]
     },
     "execution_count": 47,
     "metadata": {},
     "output_type": "execute_result"
    }
   ],
   "source": [
    "from bokeh.transform import factor_cmap, factor_mark\n",
    "from bokeh.palettes import Category10_3\n",
    "from bokeh.models import Legend, LegendItem\n",
    "\n",
    "output_file('./_includes/replicated_ed_diff_scatter.html')\n",
    "\n",
    "hover = HoverTool(\n",
    "        tooltips=\"\"\"\n",
    "        <div>\n",
    "            <div>\n",
    "                <span style=\"font-size: 10px\"> Dataset: @{Dataset} </span> <br>\n",
    "                <span style=\"font-size: 10px\"> Filter: @{Filter} </span> <br>\n",
    "                <span style=\"font-size: 10px\"> Estimator: @{Estimator} </span> <br>\n",
    "                <span style=\"font-size: 10px\"> Reported SBP/DBP ED: @{Reported SBP ED} / @{Reported DBP ED}</span> <br>\n",
    "                <span style=\"font-size: 10px\"> Replicated SBP/DBP ED: @{SBP ED} / @{DBP ED}</span> <br>\n",
    "                <span style=\"font-size: 10px\"> SBP/DBP ED Difference: @{SBP ED Difference} / @{DBP ED Difference} </span> <br>\n",
    "            </div>\n",
    "        </div>\n",
    "        \"\"\"\n",
    "    )\n",
    "\n",
    "p1 = figure(title = \"Replicated-Reported ED Difference for SBP and DBP\", background_fill_color=\"#fafafa\", plot_width=550, plot_height=400, toolbar_location=None, tools=[hover, 'pan', 'wheel_zoom' ,'box_zoom', 'reset'])\n",
    "p1.xaxis.axis_label = 'Replicated DBP ED - Reported DBP ED'\n",
    "p1.yaxis.axis_label = 'Replicated SBP ED - Reported SBP ED'\n",
    "\n",
    "cs = ['#a6cee3', '#1f78b4', '#b2df8a', '#33a02c', '#fb9a99', '#e31a1c', '#fdbf6f', '#ff7f00', '#cab2d6', '#6a3d9a', '#ffff99', '#b15928', '#8dd3c7', '#ffffb3', '#bebada', '#fb8072', '#80b1d3', '#fdb462', '#b3de69', '#fccde5', '#d9d9d9', '#bc80bd', '#ccebc5', '#ffed6f']\n",
    "shapes = ['circle', 'triangle', 'diamond', 'plus']\n",
    "dset_unique = benchmark_data['Dataset'].unique()\n",
    "filter_unique = benchmark_data['Filter'].unique()\n",
    "color_dict = {}\n",
    "for i in range(len(dset_unique)):\n",
    "    color_dict[dset_unique[i]] = cs[i]\n",
    "shape_dict = {}\n",
    "for i in range(len(filter_unique)):\n",
    "    shape_dict[filter_unique[i]] = shapes[i]\n",
    "benchmark_data['color'] = benchmark_data['Dataset'].apply(lambda x: color_dict[x])\n",
    "benchmark_data['shape'] = benchmark_data['Filter'].apply(lambda x: shape_dict[x])\n",
    "benchmark_data['SBP ED Difference'] = benchmark_data['SBP ED'].astype(float) - benchmark_data['Reported SBP ED'].astype(float)\n",
    "benchmark_data['DBP ED Difference'] = benchmark_data['DBP ED'].astype(float) - benchmark_data['Reported DBP ED'].astype(float)\n",
    "\n",
    "legend_it = []\n",
    "for i in range(len(dset_unique)):\n",
    "    d = benchmark_data[benchmark_data['Dataset'] == dset_unique[i]]\n",
    "    c1 = p1.scatter('DBP ED Difference', 'SBP ED Difference', source=ColumnDataSource(d), size=12, color='color', marker='shape')\n",
    "    legend_it.append((dset_unique[i], [c1]))\n",
    "legend = Legend(items=legend_it)\n",
    "legend.click_policy='hide'\n",
    "p1.add_layout(legend, 'right')\n",
    "p1.legend.title = 'Dataset'\n",
    "\n",
    "show(p1)\n",
    "\n",
    "export_svgs(p1, filename='./_includes/replicated_ed_diff_scatter.svg')"
   ]
  },
  {
   "cell_type": "code",
   "execution_count": 48,
   "id": "3f2dd9c2-dd0d-4219-91ae-9e06bd842995",
   "metadata": {},
   "outputs": [],
   "source": [
    "d = benchmark_data.copy().dropna(how='all')\n",
    "def assign_url(d, key):\n",
    "    if d == d:\n",
    "        row = key[key['Display Name'] == d]\n",
    "        return '<a href=\"' + row['URL'].values[0] + '\">' + row['Display Name'].values[0] + '</a>'\n",
    "    else:\n",
    "        pass\n",
    "\n",
    "cols = ['Filter', 'Estimator']\n",
    "for col in cols:\n",
    "    d[col] = d[col].apply(assign_url, args=(benchmark_key, ))\n",
    "\n",
    "d = d.pivot(index=['Dataset', 'Filter'], columns='Estimator', values='ED').T"
   ]
  },
  {
   "cell_type": "code",
   "execution_count": 49,
   "id": "c848fea8-a81d-4576-a9a5-039b3e9469ee",
   "metadata": {},
   "outputs": [],
   "source": [
    "d.reset_index().to_html('./_includes/benchmark_table.html', index=False, render_links=True, table_id='btable', escape=False)"
   ]
  },
  {
   "cell_type": "markdown",
   "id": "492df5e0-d791-4acf-8cdd-fcec7411f723",
   "metadata": {},
   "source": [
    "# Create Dataset Table"
   ]
  },
  {
   "cell_type": "code",
   "execution_count": 50,
   "id": "87273f51-b6d2-4044-9caf-7bc63db311a7",
   "metadata": {},
   "outputs": [],
   "source": [
    "data = pd.read_excel('../metadata.xlsx', sheet_name='Publicly Available Datasets')"
   ]
  },
  {
   "cell_type": "code",
   "execution_count": 51,
   "id": "d16fff67-c3a3-4342-b628-1e9d02d212e2",
   "metadata": {},
   "outputs": [],
   "source": [
    "data['Dataset Name'] = make_clickable(data['Dataset Name'], data['Dataset URL'])\n",
    "data['Article URL'] = make_clickable('Article URL', data['Dataset URL'])"
   ]
  },
  {
   "cell_type": "code",
   "execution_count": 52,
   "id": "98864588-f27d-4f3a-ba7f-8baa57ef96cd",
   "metadata": {},
   "outputs": [],
   "source": [
    "data[['Dataset Name', 'Article URL', 'Sensor Data', 'Number of Subjects', 'Study Characteristics', 'BP Distribution SBP', 'BP Distribution DBP', 'Access', 'Notes']].to_html('./_includes/dataset_table.html', index=False, render_links=True, table_id='dtable', escape=False)"
   ]
  },
  {
   "cell_type": "markdown",
   "id": "09a2d371-3bdb-45eb-bcbd-1c4bdd27f7cc",
   "metadata": {},
   "source": [
    "# Remove Doctype formatting"
   ]
  },
  {
   "cell_type": "code",
   "execution_count": 53,
   "id": "4756ac93-6fbb-457b-9332-6c4c6b6ab369",
   "metadata": {
    "tags": []
   },
   "outputs": [],
   "source": [
    "import os\n",
    "for fname in os.listdir('./_includes'):\n",
    "    if (('scatter' in fname) | ('_stats' in fname)) & ('.html' in fname):\n",
    "        fpath = './_includes/' + fname\n",
    "        with open(fpath, 'rb') as fin:\n",
    "            data = fin.read().splitlines(True)\n",
    "        with open(fpath, 'wb') as fout:\n",
    "            fout.writelines(data[1:])"
   ]
  },
  {
   "cell_type": "code",
   "execution_count": null,
   "id": "42f6450f-1344-4d37-b19e-a2d6eb0609a9",
   "metadata": {},
   "outputs": [],
   "source": []
  },
  {
   "cell_type": "code",
   "execution_count": null,
   "id": "5e7518f4-5edc-49cc-bf54-d17b0b53abda",
   "metadata": {},
   "outputs": [],
   "source": []
  }
 ],
 "metadata": {
  "kernelspec": {
   "display_name": "Python 3 (ipykernel)",
   "language": "python",
   "name": "python3"
  },
  "language_info": {
   "codemirror_mode": {
    "name": "ipython",
    "version": 3
   },
   "file_extension": ".py",
   "mimetype": "text/x-python",
   "name": "python",
   "nbconvert_exporter": "python",
   "pygments_lexer": "ipython3",
   "version": "3.10.6"
  }
 },
 "nbformat": 4,
 "nbformat_minor": 5
}
